{
 "cells": [
  {
   "cell_type": "code",
   "execution_count": 25,
   "metadata": {
    "dotnet_interactive": {
     "language": "csharp"
    },
    "vscode": {
     "languageId": "polyglot-notebook"
    }
   },
   "outputs": [
    {
     "data": {
      "text/html": [
       "<div><div></div><div></div><div><strong>Installed Packages</strong><ul><li><span>Microsoft.Data.Analysis, 0.20.1</span></li><li><span>XPlot.Plotly, 4.0.6</span></li><li><span>XPlot.Plotly.Interactive, 4.0.7</span></li></ul></div></div>"
      ]
     },
     "metadata": {},
     "output_type": "display_data"
    }
   ],
   "source": [
    "#r \"nuget:XPlot.Plotly\"\n",
    "#r \"nuget:Microsoft.Data.Analysis\"\n",
    "#r \"nuget:XPlot.Plotly.Interactive\""
   ]
  },
  {
   "cell_type": "code",
   "execution_count": 26,
   "metadata": {
    "dotnet_interactive": {
     "language": "csharp"
    },
    "vscode": {
     "languageId": "polyglot-notebook"
    }
   },
   "outputs": [],
   "source": [
    "using XPlot.Plotly;\n",
    "using Microsoft.Data.Analysis;\n",
    "using System.Linq;\n",
    "using System.Threading;\n",
    "using XPlot.Plotly.Interactive;\n",
    "using Microsoft.DotNet.Interactive;\n",
    "using Microsoft.DotNet.Interactive.Commands;"
   ]
  },
  {
   "cell_type": "code",
   "execution_count": 27,
   "metadata": {
    "dotnet_interactive": {
     "language": "csharp"
    },
    "vscode": {
     "languageId": "polyglot-notebook"
    }
   },
   "outputs": [],
   "source": [
    "var rnd = new Random();"
   ]
  },
  {
   "cell_type": "code",
   "execution_count": 28,
   "metadata": {
    "dotnet_interactive": {
     "language": "csharp"
    },
    "vscode": {
     "languageId": "polyglot-notebook"
    }
   },
   "outputs": [],
   "source": [
    "public enum CollapseEvent {\n",
    "  Scattering = 0,\n",
    "  Absorption = 1,\n",
    "  Fission = 2,\n",
    "  OutOfRange = 3\n",
    "}"
   ]
  },
  {
   "cell_type": "code",
   "execution_count": 29,
   "metadata": {
    "dotnet_interactive": {
     "language": "csharp"
    },
    "vscode": {
     "languageId": "polyglot-notebook"
    }
   },
   "outputs": [],
   "source": [
    "public class Atom \n",
    "{\n",
    "  public int X { get; set; }\n",
    "  public int Y { get; set; }\n",
    "  public int U { get; set; }\n",
    "  public int V { get; set; }\n",
    "  public int L { get; set; }\n",
    "  public int CurrentL { get; set; }\n",
    "  public double Lambda { get; set;}\n",
    "  public int Border { get; set; }\n",
    "\n",
    "  public Atom(int x, int y, double lambda, Random rnd, int border) {\n",
    "    CurrentL = 0;\n",
    "    L = Convert.ToInt32(- Math.Log(rnd.NextDouble()) / lambda);\n",
    "    X = x;\n",
    "    Y = y;\n",
    "    U = rnd.Next(2) == 0 ? -1 : 1;\n",
    "    V = rnd.Next(2) == 0 ? -1 : 1;\n",
    "    Lambda = lambda;\n",
    "    Border = border;\n",
    "  }\n",
    "\n",
    "  public (IEnumerable<Atom> Atoms, CollapseEvent? Event) Collapse(Random rnd) {\n",
    "    var collapseEvent = (CollapseEvent)rnd.Next(0, 3);\n",
    "\n",
    "    switch (collapseEvent) {\n",
    "      case CollapseEvent.Scattering:\n",
    "        return (new List<Atom>() { new Atom(X, Y, Lambda, rnd, Border) }, collapseEvent);\n",
    "      case CollapseEvent.Absorption:\n",
    "        return (new List<Atom>(), collapseEvent);\n",
    "      case CollapseEvent.Fission:\n",
    "        return (new List<Atom>() { new Atom(X, Y, Lambda, rnd, Border), new Atom(X, Y, Lambda, rnd, Border) }, collapseEvent);\n",
    "    }\n",
    "\n",
    "    return (new List<Atom>() { this }, null);\n",
    "  }\n",
    "\n",
    "  public (IEnumerable<Atom> Atoms, CollapseEvent? Event) Step(Random rnd) {\n",
    "    CurrentL++;\n",
    "    X += U;\n",
    "    Y += V;\n",
    "\n",
    "    if (X < 0 || Y < 0 || X > Border || Y > Border) {\n",
    "      return (new List<Atom>(), CollapseEvent.OutOfRange);\n",
    "    }\n",
    "\n",
    "    if (L == CurrentL) {\n",
    "      return Collapse(rnd);\n",
    "    }\n",
    "    \n",
    "    return (new List<Atom>() { this }, null);\n",
    "  }\n",
    "}"
   ]
  },
  {
   "cell_type": "code",
   "execution_count": 30,
   "metadata": {
    "dotnet_interactive": {
     "language": "csharp"
    },
    "vscode": {
     "languageId": "polyglot-notebook"
    }
   },
   "outputs": [],
   "source": [
    "var lmd = 0.1;\n",
    "var borderLen = 50;\n",
    "var atoms = new List<Atom>() { new Atom(10, 10, lmd, rnd, borderLen), new Atom(25, 25, lmd, rnd, borderLen),new Atom(20, 20, lmd, rnd, borderLen), new Atom(30, 30, lmd, rnd, borderLen), new Atom(10, 40, lmd, rnd, borderLen) };"
   ]
  },
  {
   "cell_type": "code",
   "execution_count": 31,
   "metadata": {
    "dotnet_interactive": {
     "language": "csharp"
    },
    "vscode": {
     "languageId": "polyglot-notebook"
    }
   },
   "outputs": [
    {
     "data": {
      "text/html": [
       "<!DOCTYPE html>\r\n",
       "<div style=\"width: 800px; height: 800px;\" id=\"56155950-1c5f-46da-9d5e-9e5db1612211\"></div><script type=\"text/javascript\">\r\n",
       "\n",
       "var renderPlotly = function() {\n",
       "    var xplotRequire = require.config({context:'xplot-3.0.1',paths:{plotly:'https://cdn.plot.ly/plotly-1.49.2.min'}}) || require;\n",
       "    xplotRequire(['plotly'], function(Plotly) { \r\n",
       "\n",
       "            var data = [{\"type\":\"scatter\",\"x\":[],\"y\":[],\"mode\":\"markers\",\"marker\":{\"size\":15,\"color\":\"blue\",\"line\":{\"color\":\"white\",\"width\":1}}},{\"type\":\"scatter\",\"x\":[0,50,50,0,0],\"y\":[0,0,50,50,0],\"mode\":\"line\",\"marker\":{\"size\":6,\"color\":\"red\",\"line\":{\"color\":\"white\",\"width\":1}}}];\n",
       "           var layout = {\"title\":\"Generation #95 (atoms: 0)\",\"xaxis\":{\"title\":\"x\",\"_isSubplotObj\":true},\"yaxis\":{\"title\":\"y\",\"_isSubplotObj\":true}};\n",
       "           Plotly.newPlot('56155950-1c5f-46da-9d5e-9e5db1612211', data, layout);\n",
       "        \r\n",
       "});\n",
       "};\r\n",
       "// ensure `require` is available globally\r\n",
       "if ((typeof(require) !==  typeof(Function)) || (typeof(require.config) !== typeof(Function))) {\r\n",
       "    let require_script = document.createElement('script');\r\n",
       "    require_script.setAttribute('src', 'https://cdnjs.cloudflare.com/ajax/libs/require.js/2.3.6/require.min.js');\r\n",
       "    require_script.setAttribute('type', 'text/javascript');\r\n",
       "    \r\n",
       "    \r\n",
       "    require_script.onload = function() {\r\n",
       "        renderPlotly();\r\n",
       "    };\r\n",
       "\r\n",
       "    document.getElementsByTagName('head')[0].appendChild(require_script);\r\n",
       "}\r\n",
       "else {\r\n",
       "    renderPlotly();\r\n",
       "}\r\n",
       "\r\n",
       "</script>\r\n"
      ]
     },
     "metadata": {},
     "output_type": "display_data"
    }
   ],
   "source": [
    "var border1 = new Scatter\n",
    "{   \n",
    "    x = new List<int>() { 0, borderLen, borderLen, 0, 0 },\n",
    "    y = new List<int>() { 0, 0, borderLen, borderLen, 0 },\n",
    "    mode = \"line\",\n",
    "    marker = new Marker \n",
    "    { \n",
    "        color = \"red\",\n",
    "        size = 6,\n",
    "        line = new Line {\n",
    "            color = \"white\",\n",
    "            width = 1\n",
    "        }\n",
    "    }\n",
    "};\n",
    "\n",
    "var layout = new Layout.Layout \n",
    "{\n",
    "    xaxis = new Xaxis \n",
    "    {\n",
    "        title = \"x\"\n",
    "    },\n",
    "    yaxis = new Yaxis\n",
    "    {\n",
    "        title = \"y\"\n",
    "    },\n",
    "    title = $\"Generation #0\",    \n",
    "};\n",
    "\n",
    "var plot = Chart.Plot(border1, layout);\n",
    "plot.Height = 700;\n",
    "plot.Width = 700;\n",
    "\n",
    "var animationOutput = display(plot);\n",
    "\n",
    "var time = new List<int>();\n",
    "var atomsCounts = new List<int>();\n",
    "var scatterings = new List<int>();\n",
    "var absorptions = new List<int>();\n",
    "var fissions = new List<int>();\n",
    "var outOfRanges = new List<int>();\n",
    "\n",
    "for (int i = 0; i < 100; i++){\n",
    "    if(atoms.Count() == 0){\n",
    "        break;\n",
    "    }\n",
    "    var copyAtoms = atoms.ToList();\n",
    "    atoms = new List<Atom>();\n",
    "    var scattering = 0;\n",
    "    var absorption = 0;\n",
    "    var fission = 0; \n",
    "    var outOfRange = 0;\n",
    "    foreach (var atom in copyAtoms) {\n",
    "        var newAtoms = atom.Step(rnd);\n",
    "        atoms.AddRange(newAtoms.Atoms);\n",
    "        switch (newAtoms.Event) {\n",
    "            case CollapseEvent.Scattering:\n",
    "                scattering++;\n",
    "                break;\n",
    "            case CollapseEvent.Absorption:\n",
    "                absorption++;\n",
    "                break;\n",
    "            case CollapseEvent.Fission:\n",
    "                fission++;\n",
    "                break;\n",
    "            case CollapseEvent.OutOfRange:\n",
    "                outOfRange++;\n",
    "                break;\n",
    "        }\n",
    "    } \n",
    "    time.Add(i);\n",
    "    atomsCounts.Add(atoms.Count());   \n",
    "    scatterings.Add(scattering);\n",
    "    absorptions.Add(absorption);\n",
    "    fissions.Add(fission);\n",
    "    outOfRanges.Add(outOfRange);\n",
    "\n",
    "    var scatter = new Scatter\n",
    "    {   \n",
    "        x = atoms.Select(a => a.X),\n",
    "        y = atoms.Select(a => a.Y),\n",
    "        mode = \"markers\",\n",
    "        marker = new Marker \n",
    "        { \n",
    "            color = \"blue\",\n",
    "            size = 15,\n",
    "            line = new Line {\n",
    "                color = \"white\",\n",
    "                width = 1\n",
    "            }\n",
    "        }\n",
    "    };\n",
    "\n",
    "    layout.title = $\"Generation #{i} (atoms: {atoms.Count()})\";\n",
    "\n",
    "    var plot = Chart.Plot(new List<Trace>() { scatter, border1 }, layout);\n",
    "    plot.Height = 800;\n",
    "    plot.Width = 800;\n",
    "\n",
    "    animationOutput.Update(plot);\n",
    "    Thread.Sleep(1000);\n",
    "}\n"
   ]
  },
  {
   "cell_type": "code",
   "execution_count": 32,
   "metadata": {
    "dotnet_interactive": {
     "language": "csharp"
    },
    "vscode": {
     "languageId": "polyglot-notebook"
    }
   },
   "outputs": [
    {
     "data": {
      "text/html": [
       "<!DOCTYPE html>\r\n",
       "<div style=\"width: 1000px; height: 1000px;\" id=\"7b08888a-d778-4cbe-b581-9ad17af4c3b6\"></div><script type=\"text/javascript\">\r\n",
       "\n",
       "var renderPlotly = function() {\n",
       "    var xplotRequire = require.config({context:'xplot-3.0.1',paths:{plotly:'https://cdn.plot.ly/plotly-1.49.2.min'}}) || require;\n",
       "    xplotRequire(['plotly'], function(Plotly) { \r\n",
       "\n",
       "            var data = [{\"type\":\"scatter\",\"x\":[0,1,2,3,4,5,6,7,8,9,10,11,12,13,14,15,16,17,18,19,20,21,22,23,24,25,26,27,28,29,30,31,32,33,34,35,36,37,38,39,40,41,42,43,44,45,46,47,48,49,50,51,52,53,54,55,56,57,58,59,60,61,62,63,64,65,66,67,68,69,70,71,72,73,74,75,76,77,78,79,80,81,82,83,84,85,86,87,88,89,90,91,92,93,94,95],\"y\":[5,3,3,3,3,3,3,4,5,5,4,5,5,5,5,5,5,5,5,5,5,6,6,6,7,7,8,9,9,9,6,7,7,7,7,6,6,6,6,6,7,7,8,9,9,9,9,8,9,9,9,9,7,7,6,5,5,5,6,6,5,4,4,4,4,4,4,5,5,5,5,6,6,6,6,7,7,7,7,4,5,5,4,3,3,3,3,3,3,3,3,2,2,1,1,0],\"mode\":\"lines\",\"marker\":{\"size\":1,\"color\":\"black\"},\"name\":\"Число атомов\"},{\"type\":\"scatter\",\"x\":[0,1,2,3,4,5,6,7,8,9,10,11,12,13,14,15,16,17,18,19,20,21,22,23,24,25,26,27,28,29,30,31,32,33,34,35,36,37,38,39,40,41,42,43,44,45,46,47,48,49,50,51,52,53,54,55,56,57,58,59,60,61,62,63,64,65,66,67,68,69,70,71,72,73,74,75,76,77,78,79,80,81,82,83,84,85,86,87,88,89,90,91,92,93,94,95],\"y\":[0,0,0,0,1,0,1,0,0,1,0,0,0,0,0,1,0,1,0,0,0,0,0,0,0,0,0,0,0,0,0,1,0,0,0,0,0,0,0,0,0,0,0,0,0,0,0,0,2,1,0,1,0,0,0,0,0,1,0,0,0,0,0,0,0,0,0,0,0,0,1,0,0,0,0,0,0,0,1,0,0,0,0,0,0,0,0,0,0,0,0,0,0,0,0,0],\"mode\":\"lines\",\"marker\":{\"size\":1,\"color\":\"red\"},\"name\":\"Рассеились\"},{\"type\":\"scatter\",\"x\":[0,1,2,3,4,5,6,7,8,9,10,11,12,13,14,15,16,17,18,19,20,21,22,23,24,25,26,27,28,29,30,31,32,33,34,35,36,37,38,39,40,41,42,43,44,45,46,47,48,49,50,51,52,53,54,55,56,57,58,59,60,61,62,63,64,65,66,67,68,69,70,71,72,73,74,75,76,77,78,79,80,81,82,83,84,85,86,87,88,89,90,91,92,93,94,95],\"y\":[0,2,0,0,0,0,0,0,0,0,1,0,0,0,0,0,0,0,0,0,0,0,0,0,0,0,0,0,0,0,2,0,0,0,0,0,0,0,0,0,0,0,0,0,0,0,0,1,0,0,0,0,2,0,0,1,0,0,0,0,0,1,0,1,0,0,0,0,0,0,0,0,0,0,0,0,0,0,0,0,0,0,0,1,0,0,0,0,0,0,0,1,0,0,0,0],\"mode\":\"lines\",\"marker\":{\"size\":1,\"color\":\"blue\"},\"name\":\"Поглотились\"},{\"type\":\"scatter\",\"x\":[0,1,2,3,4,5,6,7,8,9,10,11,12,13,14,15,16,17,18,19,20,21,22,23,24,25,26,27,28,29,30,31,32,33,34,35,36,37,38,39,40,41,42,43,44,45,46,47,48,49,50,51,52,53,54,55,56,57,58,59,60,61,62,63,64,65,66,67,68,69,70,71,72,73,74,75,76,77,78,79,80,81,82,83,84,85,86,87,88,89,90,91,92,93,94,95],\"y\":[0,0,0,0,0,0,0,1,1,0,0,1,0,0,0,0,0,0,0,0,0,1,0,0,1,0,1,1,0,0,0,1,0,0,0,0,0,0,0,0,1,0,1,1,0,0,0,0,1,0,0,0,0,0,0,0,0,0,1,0,0,0,0,1,0,0,0,1,0,0,0,1,0,0,0,1,0,0,0,0,1,0,0,0,0,0,0,0,0,0,0,0,0,0,0,0],\"mode\":\"lines\",\"marker\":{\"size\":1,\"color\":\"green\"},\"name\":\"Расщепились\"},{\"type\":\"scatter\",\"x\":[0,1,2,3,4,5,6,7,8,9,10,11,12,13,14,15,16,17,18,19,20,21,22,23,24,25,26,27,28,29,30,31,32,33,34,35,36,37,38,39,40,41,42,43,44,45,46,47,48,49,50,51,52,53,54,55,56,57,58,59,60,61,62,63,64,65,66,67,68,69,70,71,72,73,74,75,76,77,78,79,80,81,82,83,84,85,86,87,88,89,90,91,92,93,94,95],\"y\":[0,0,0,0,0,0,0,1,1,0,0,1,0,0,0,0,0,0,0,0,0,1,0,0,1,0,1,1,0,0,0,1,0,0,0,0,0,0,0,0,1,0,1,1,0,0,0,0,1,0,0,0,0,0,0,0,0,0,1,0,0,0,0,1,0,0,0,1,0,0,0,1,0,0,0,1,0,0,0,0,1,0,0,0,0,0,0,0,0,0,0,0,0,0,0,0],\"mode\":\"lines\",\"marker\":{\"size\":1,\"color\":\"magenta\"},\"name\":\"Вышло за пределы\"}];\n",
       "           var layout = {\"title\":\"Count of atoms\",\"xaxis\":{\"title\":\"time\",\"_isSubplotObj\":true},\"yaxis\":{\"title\":\"count\",\"_isSubplotObj\":true}};\n",
       "           Plotly.newPlot('7b08888a-d778-4cbe-b581-9ad17af4c3b6', data, layout);\n",
       "        \r\n",
       "});\n",
       "};\r\n",
       "// ensure `require` is available globally\r\n",
       "if ((typeof(require) !==  typeof(Function)) || (typeof(require.config) !== typeof(Function))) {\r\n",
       "    let require_script = document.createElement('script');\r\n",
       "    require_script.setAttribute('src', 'https://cdnjs.cloudflare.com/ajax/libs/require.js/2.3.6/require.min.js');\r\n",
       "    require_script.setAttribute('type', 'text/javascript');\r\n",
       "    \r\n",
       "    \r\n",
       "    require_script.onload = function() {\r\n",
       "        renderPlotly();\r\n",
       "    };\r\n",
       "\r\n",
       "    document.getElementsByTagName('head')[0].appendChild(require_script);\r\n",
       "}\r\n",
       "else {\r\n",
       "    renderPlotly();\r\n",
       "}\r\n",
       "\r\n",
       "</script>\r\n"
      ]
     },
     "metadata": {},
     "output_type": "display_data"
    }
   ],
   "source": [
    "var atomsCountScatter = new Scatter\n",
    "{   \n",
    "    x = time,\n",
    "    y = atomsCounts,\n",
    "    mode = \"lines\",\n",
    "    marker = new Marker \n",
    "    { \n",
    "        color = \"black\",\n",
    "        size = 1\n",
    "    },\n",
    "    name = \"Число атомов\"\n",
    "};\n",
    "\n",
    "var scatteringsCountScatter = new Scatter\n",
    "{   \n",
    "    x = time,\n",
    "    y = scatterings,\n",
    "    mode = \"lines\",\n",
    "    marker = new Marker \n",
    "    { \n",
    "        color = \"red\",\n",
    "        size = 1\n",
    "    },\n",
    "    name = \"Рассеились\"\n",
    "};\n",
    "\n",
    "var absorptionsCountScatter = new Scatter\n",
    "{   \n",
    "    x = time,\n",
    "    y = absorptions,\n",
    "    mode = \"lines\",\n",
    "    marker = new Marker \n",
    "    { \n",
    "        color = \"blue\",\n",
    "        size = 1\n",
    "    },\n",
    "    name = \"Поглотились\"\n",
    "};\n",
    "\n",
    "var fissionsCountScatter = new Scatter\n",
    "{   \n",
    "    x = time,\n",
    "    y = fissions,\n",
    "    mode = \"lines\",\n",
    "    marker = new Marker \n",
    "    { \n",
    "        color = \"green\",\n",
    "        size = 1\n",
    "    },\n",
    "    name = \"Расщепились\"\n",
    "};\n",
    "\n",
    "var outOfRangesCountScatter = new Scatter\n",
    "{   \n",
    "    x = time,\n",
    "    y = fissions,\n",
    "    mode = \"lines\",\n",
    "    marker = new Marker \n",
    "    { \n",
    "        color = \"magenta\",\n",
    "        size = 1\n",
    "    },\n",
    "    name = \"Вышло за пределы\"\n",
    "};\n",
    "\n",
    "var atomsCountLayout = new Layout.Layout \n",
    "{\n",
    "    xaxis = new Xaxis \n",
    "    {\n",
    "        title = \"time\"\n",
    "    },\n",
    "    yaxis = new Yaxis\n",
    "    {\n",
    "        title = \"count\"\n",
    "    },\n",
    "    title = $\"Count of atoms\",    \n",
    "};\n",
    "\n",
    "var plot = Chart.Plot(new List<Trace>() { atomsCountScatter, scatteringsCountScatter, absorptionsCountScatter, fissionsCountScatter, outOfRangesCountScatter }, atomsCountLayout);\n",
    "plot.Height = 1000;\n",
    "plot.Width = 1000;\n",
    "\n",
    "plot"
   ]
  }
 ],
 "metadata": {
  "kernelspec": {
   "display_name": ".NET (C#)",
   "language": "C#",
   "name": ".net-csharp"
  },
  "language_info": {
   "file_extension": ".cs",
   "mimetype": "text/x-csharp",
   "name": "C#",
   "pygments_lexer": "csharp",
   "version": "9.0"
  },
  "orig_nbformat": 4
 },
 "nbformat": 4,
 "nbformat_minor": 2
}
