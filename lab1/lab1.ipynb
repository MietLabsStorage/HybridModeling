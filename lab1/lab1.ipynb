{
 "cells": [
  {
   "cell_type": "code",
   "execution_count": 1,
   "metadata": {
    "dotnet_interactive": {
     "language": "csharp"
    },
    "polyglot_notebook": {
     "kernelName": "csharp"
    },
    "vscode": {
     "languageId": "polyglot-notebook"
    }
   },
   "outputs": [],
   "source": [
    "public enum Method { Linear = 0, TimeRefs = 1, OutterForce = 2 }"
   ]
  },
  {
   "cell_type": "code",
   "execution_count": 2,
   "metadata": {
    "dotnet_interactive": {
     "language": "csharp"
    },
    "polyglot_notebook": {
     "kernelName": "csharp"
    },
    "vscode": {
     "languageId": "polyglot-notebook"
    }
   },
   "outputs": [],
   "source": [
    "public class MalthusianGrowthModel\n",
    "{\n",
    "    public double A { get; private set;}\n",
    "    public double B { get; private set;}\n",
    "    public double Y { get; private set;}\n",
    "    public int N0 { get; private set;}\n",
    "    public double T0 { get; private set;}\n",
    "    public Func<double, double, double> OutterForce { get; private set;}\n",
    "\n",
    "    public double R => A - B;\n",
    "    \n",
    "    public MalthusianGrowthModel WithA(double a) { A = a; return this; }\n",
    "    public MalthusianGrowthModel WithB(double b) { B = b; return this; }\n",
    "    public MalthusianGrowthModel WithY(double y) { Y = y; return this; }\n",
    "    public MalthusianGrowthModel WithN0(int n0) { N0 = n0; prev = n0; return this; }\n",
    "    public MalthusianGrowthModel WithT0(double t0) { T0 = t0; return this; }\n",
    "    public MalthusianGrowthModel WithOutter(Func<double, double, double> outter) { OutterForce = outter; return this; }\n",
    "\n",
    "    private double prev;\n",
    "    public IEnumerable<double> Run(double timeStep, double timeLimit, Method f)\n",
    "    {\n",
    "        Func<double, double, double> func = f switch\n",
    "        {\n",
    "            Method.Linear => GenerateFirst,\n",
    "            Method.TimeRefs => GenerateSecond,\n",
    "            Method.OutterForce => GenerateThird,\n",
    "            _ => null\n",
    "        };\n",
    "\n",
    "        var values = new List<double>();\n",
    "        for (double i = T0; i < timeLimit; i += timeStep)\n",
    "        {            \n",
    "            values.Add(Math.Round(func(i, timeStep), 2));\n",
    "        }\n",
    "\n",
    "        return values;\n",
    "    }\n",
    "\n",
    "    private double GenerateFirst(double t, double step)\n",
    "    {\n",
    "        return N0 * Math.Exp((A - B) * (t - T0));\n",
    "    }\n",
    "\n",
    "    private double GenerateSecond(double t, double step)\n",
    "    {\n",
    "        return (Y * N0 * Math.Exp(R * (t - T0))) / (Y + N0 * (Math.Exp(R * (t - T0)) - 1));\n",
    "    }\n",
    "\n",
    "    public double GenerateThird(double t, double step)\n",
    "    {\n",
    "        prev = prev + step * (R * prev * (1 - prev / (Y * OutterForce(prev, t))));\n",
    "        return prev;\n",
    "    }\n",
    "}"
   ]
  },
  {
   "cell_type": "code",
   "execution_count": 3,
   "metadata": {
    "dotnet_interactive": {
     "language": "csharp"
    },
    "polyglot_notebook": {
     "kernelName": "csharp"
    },
    "vscode": {
     "languageId": "polyglot-notebook"
    }
   },
   "outputs": [
    {
     "data": {
      "text/html": [
       "<div><div></div><div></div><div><strong>Installed Packages</strong><ul><li><span>Microsoft.Data.Analysis, 0.20.1</span></li><li><span>XPlot.Plotly, 4.0.6</span></li><li><span>XPlot.Plotly.Interactive, 4.0.6</span></li></ul></div></div>"
      ]
     },
     "metadata": {},
     "output_type": "display_data"
    },
    {
     "data": {
      "text/plain": [
       "Loading extensions from `/Users/mjajksj/.nuget/packages/xplot.plotly.interactive/4.0.6/interactive-extensions/dotnet/XPlot.Plotly.Interactive.dll`"
      ]
     },
     "metadata": {},
     "output_type": "display_data"
    },
    {
     "data": {
      "text/markdown": [
       "Configuring PowerShell Kernel for XPlot.Plotly integration."
      ]
     },
     "metadata": {},
     "output_type": "display_data"
    },
    {
     "data": {
      "text/markdown": [
       "Installed support for XPlot.Plotly."
      ]
     },
     "metadata": {},
     "output_type": "display_data"
    },
    {
     "data": {
      "text/plain": [
       "Loading extensions from `/Users/mjajksj/.nuget/packages/microsoft.data.analysis/0.20.1/interactive-extensions/dotnet/Microsoft.Data.Analysis.Interactive.dll`"
      ]
     },
     "metadata": {},
     "output_type": "display_data"
    }
   ],
   "source": [
    "#r \"nuget:XPlot.Plotly\"\n",
    "#r \"nuget:Microsoft.Data.Analysis\"\n",
    "#r \"nuget:XPlot.Plotly.Interactive\""
   ]
  },
  {
   "cell_type": "code",
   "execution_count": 4,
   "metadata": {
    "dotnet_interactive": {
     "language": "csharp"
    },
    "polyglot_notebook": {
     "kernelName": "csharp"
    },
    "vscode": {
     "languageId": "polyglot-notebook"
    }
   },
   "outputs": [],
   "source": [
    "using XPlot.Plotly;\n",
    "using Microsoft.Data.Analysis;\n",
    "using System.Linq;\n",
    "using XPlot.Plotly.Interactive;"
   ]
  },
  {
   "cell_type": "code",
   "execution_count": 5,
   "metadata": {
    "dotnet_interactive": {
     "language": "csharp"
    },
    "polyglot_notebook": {
     "kernelName": "csharp"
    },
    "vscode": {
     "languageId": "polyglot-notebook"
    }
   },
   "outputs": [],
   "source": [
    "var timeLimit = 10.0;\n",
    "var timeStep = 1.0;\n",
    "var timeStart = 0.0;\n",
    "var people = 200;\n",
    "var time = new List<double>();\n",
    "for (double i = timeStart; i < timeLimit; i += timeStep) { time.Add(i); }\n",
    "\n",
    "var layout = new Layout.Layout \n",
    "{\n",
    "    xaxis = new Xaxis \n",
    "    {\n",
    "        title = $\"Время, шаг: {timeStep}\",\n",
    "    },\n",
    "    yaxis = new Yaxis\n",
    "    {\n",
    "        title = \"Популяция\"\n",
    "    },\n",
    "    title = $\"Модель роста популяции\"\n",
    "};"
   ]
  },
  {
   "cell_type": "code",
   "execution_count": 6,
   "metadata": {
    "dotnet_interactive": {
     "language": "csharp"
    },
    "polyglot_notebook": {
     "kernelName": "csharp"
    },
    "vscode": {
     "languageId": "polyglot-notebook"
    }
   },
   "outputs": [
    {
     "data": {
      "text/html": [
       "<!DOCTYPE html>\n",
       "<div style=\"width: 900px; height: 500px;\" id=\"6f6fe15f-b717-4f4e-acd8-13f4a7ffd1b3\"></div><script type=\"text/javascript\">\n",
       "\n",
       "var renderPlotly = function() {\n",
       "    var xplotRequire = require.config({context:'xplot-3.0.1',paths:{plotly:'https://cdn.plot.ly/plotly-1.49.2.min'}}) || require;\n",
       "    xplotRequire(['plotly'], function(Plotly) { \n",
       "\n",
       "            var data = [{\"type\":\"scatter\",\"x\":[0.0,1.0,2.0,3.0,4.0,5.0,6.0,7.0,8.0,9.0],\"y\":[200.0,221.03,244.28,269.97,298.36,329.74,364.42,402.75,445.11,491.92],\"line\":{\"shape\":\"spline\"},\"marker\":{\"color\":\"red\"}},{\"type\":\"scatter\",\"x\":[0.0,1.0,2.0,3.0,4.0,5.0,6.0,7.0,8.0,9.0],\"y\":[200.0,180.97,163.75,148.16,134.06,121.31,109.76,99.32,89.87,81.31],\"line\":{\"shape\":\"spline\"},\"marker\":{\"color\":\"blue\"}},{\"type\":\"scatter\",\"x\":[0.0,1.0,2.0,3.0,4.0,5.0,6.0,7.0,8.0,9.0],\"y\":[200.0,200.0,200.0,200.0,200.0,200.0,200.0,200.0,200.0,200.0],\"line\":{\"shape\":\"spline\"},\"marker\":{\"color\":\"green\"}}];\n",
       "           var layout = {\"title\":\"Модель роста популяции\",\"xaxis\":{\"title\":\"Время, шаг: 1\",\"_isSubplotObj\":true},\"yaxis\":{\"title\":\"Популяция\",\"_isSubplotObj\":true}};\n",
       "           Plotly.newPlot('6f6fe15f-b717-4f4e-acd8-13f4a7ffd1b3', data, layout);\n",
       "        \n",
       "});\n",
       "};\n",
       "// ensure `require` is available globally\r\n",
       "if ((typeof(require) !==  typeof(Function)) || (typeof(require.config) !== typeof(Function))) {\r\n",
       "    let require_script = document.createElement('script');\r\n",
       "    require_script.setAttribute('src', 'https://cdnjs.cloudflare.com/ajax/libs/require.js/2.3.6/require.min.js');\r\n",
       "    require_script.setAttribute('type', 'text/javascript');\r\n",
       "    \r\n",
       "    \r\n",
       "    require_script.onload = function() {\r\n",
       "        renderPlotly();\r\n",
       "    };\r\n",
       "\r\n",
       "    document.getElementsByTagName('head')[0].appendChild(require_script);\r\n",
       "}\r\n",
       "else {\r\n",
       "    renderPlotly();\r\n",
       "}\r\n",
       "\n",
       "</script>\n"
      ]
     },
     "metadata": {},
     "output_type": "display_data"
    }
   ],
   "source": [
    "var first1 = new MalthusianGrowthModel()\n",
    "    .WithN0(people)\n",
    "    .WithT0(timeStart)\n",
    "    .WithA(0.6)\n",
    "    .WithB(0.5)\n",
    "    .Run(timeStep, timeLimit, Method.Linear);\n",
    "\n",
    "var first2 = new MalthusianGrowthModel()\n",
    "    .WithN0(people)\n",
    "    .WithT0(timeStart)\n",
    "    .WithA(0.5)\n",
    "    .WithB(0.6)\n",
    "    .Run(timeStep, timeLimit, Method.Linear);\n",
    "\n",
    "var first3 = new MalthusianGrowthModel()\n",
    "    .WithN0(people)\n",
    "    .WithT0(timeStart)\n",
    "    .WithA(0.5)\n",
    "    .WithB(0.5)\n",
    "    .Run(timeStep, timeLimit, Method.Linear);\n",
    "\n",
    "var firstScatter1 = new Scatter\n",
    "{   \n",
    "    x = time,\n",
    "    y = first1,\n",
    "    marker = new Marker { color = \"red\" },\n",
    "    line = new Line { shape = \"spline\" }\n",
    "};\n",
    "\n",
    "var firstScatter2 = new Scatter\n",
    "{   \n",
    "    x = time,\n",
    "    y = first2,\n",
    "    marker = new Marker { color = \"blue\" },\n",
    "    line = new Line { shape = \"spline\" }\n",
    "};\n",
    "\n",
    "var firstScatter3 = new Scatter\n",
    "{   \n",
    "    x = time,\n",
    "    y = first3,\n",
    "    marker = new Marker { color = \"green\" },\n",
    "    line = new Line { shape = \"spline\" }\n",
    "};\n",
    "\n",
    "Chart.Plot(new List<Trace>() { firstScatter1, firstScatter2, firstScatter3 }, layout)"
   ]
  },
  {
   "cell_type": "code",
   "execution_count": 7,
   "metadata": {
    "dotnet_interactive": {
     "language": "csharp"
    },
    "polyglot_notebook": {
     "kernelName": "csharp"
    },
    "vscode": {
     "languageId": "polyglot-notebook"
    }
   },
   "outputs": [
    {
     "data": {
      "text/html": [
       "<!DOCTYPE html>\n",
       "<div style=\"width: 900px; height: 500px;\" id=\"05419cd9-a3f0-41b1-b0b4-8ccc98999801\"></div><script type=\"text/javascript\">\n",
       "\n",
       "var renderPlotly = function() {\n",
       "    var xplotRequire = require.config({context:'xplot-3.0.1',paths:{plotly:'https://cdn.plot.ly/plotly-1.49.2.min'}}) || require;\n",
       "    xplotRequire(['plotly'], function(Plotly) { \n",
       "\n",
       "            var data = [{\"type\":\"scatter\",\"x\":[0.0,1.0,2.0,3.0,4.0,5.0,6.0,7.0,8.0,9.0],\"y\":[200.0,322.2,415.63,465.25,486.63,495.0,498.15,499.32,499.75,499.91],\"line\":{\"shape\":\"spline\"},\"marker\":{\"color\":\"blue\"}},{\"type\":\"scatter\",\"x\":[0.0,1.0,2.0,3.0,4.0,5.0,6.0,7.0,8.0,9.0],\"y\":[800.0,526.73,503.46,500.47,500.06,500.01,500.0,500.0,500.0,500.0],\"line\":{\"shape\":\"spline\"},\"marker\":{\"color\":\"green\"}}];\n",
       "           var layout = {\"title\":\"Модель роста популяции\",\"xaxis\":{\"title\":\"Время, шаг: 1\",\"_isSubplotObj\":true},\"yaxis\":{\"title\":\"Популяция\",\"_isSubplotObj\":true}};\n",
       "           Plotly.newPlot('05419cd9-a3f0-41b1-b0b4-8ccc98999801', data, layout);\n",
       "        \n",
       "});\n",
       "};\n",
       "// ensure `require` is available globally\r\n",
       "if ((typeof(require) !==  typeof(Function)) || (typeof(require.config) !== typeof(Function))) {\r\n",
       "    let require_script = document.createElement('script');\r\n",
       "    require_script.setAttribute('src', 'https://cdnjs.cloudflare.com/ajax/libs/require.js/2.3.6/require.min.js');\r\n",
       "    require_script.setAttribute('type', 'text/javascript');\r\n",
       "    \r\n",
       "    \r\n",
       "    require_script.onload = function() {\r\n",
       "        renderPlotly();\r\n",
       "    };\r\n",
       "\r\n",
       "    document.getElementsByTagName('head')[0].appendChild(require_script);\r\n",
       "}\r\n",
       "else {\r\n",
       "    renderPlotly();\r\n",
       "}\r\n",
       "\n",
       "</script>\n"
      ]
     },
     "metadata": {},
     "output_type": "display_data"
    }
   ],
   "source": [
    "var second1 = new MalthusianGrowthModel()\n",
    "    .WithN0(people)\n",
    "    .WithT0(timeStart)\n",
    "    .WithA(10)\n",
    "    .WithB(9)\n",
    "    .WithY(500)\n",
    "    .Run(timeStep, timeLimit, Method.TimeRefs);\n",
    "\n",
    "var second2 = new MalthusianGrowthModel()\n",
    "    .WithN0(4 * people)\n",
    "    .WithT0(timeStart)\n",
    "    .WithA(10)\n",
    "    .WithB(8)\n",
    "    .WithY(500)\n",
    "    .Run(timeStep, timeLimit, Method.TimeRefs);\n",
    "\n",
    "var secondScatter1 = new Scatter\n",
    "{   \n",
    "    x = time,\n",
    "    y = second1,\n",
    "    marker = new Marker { color = \"blue\" },\n",
    "    line = new Line { shape = \"spline\" }\n",
    "};\n",
    "\n",
    "var secondScatter2 = new Scatter\n",
    "{   \n",
    "    x = time,\n",
    "    y = second2,\n",
    "    marker = new Marker { color = \"green\" },\n",
    "    line = new Line { shape = \"spline\" }\n",
    "};\n",
    "\n",
    "Chart.Plot(new List<Trace>() { secondScatter1, secondScatter2 }, layout)"
   ]
  },
  {
   "cell_type": "code",
   "execution_count": 8,
   "metadata": {
    "dotnet_interactive": {
     "language": "csharp"
    },
    "polyglot_notebook": {
     "kernelName": "csharp"
    },
    "vscode": {
     "languageId": "polyglot-notebook"
    }
   },
   "outputs": [
    {
     "data": {
      "text/html": [
       "<!DOCTYPE html>\n",
       "<div style=\"width: 900px; height: 500px;\" id=\"e77e6134-e325-4b57-839e-46523e46c5c8\"></div><script type=\"text/javascript\">\n",
       "\n",
       "var renderPlotly = function() {\n",
       "    var xplotRequire = require.config({context:'xplot-3.0.1',paths:{plotly:'https://cdn.plot.ly/plotly-1.49.2.min'}}) || require;\n",
       "    xplotRequire(['plotly'], function(Plotly) { \n",
       "\n",
       "            var data = [{\"type\":\"scatter\",\"x\":[0.0,1.0,2.0,3.0,4.0,5.0,6.0,7.0,8.0,9.0,10.0,11.0,12.0,13.0,14.0,15.0,16.0,17.0,18.0,19.0,20.0,21.0,22.0,23.0,24.0,25.0,26.0,27.0,28.0,29.0,30.0,31.0,32.0,33.0,34.0,35.0,36.0,37.0,38.0,39.0,40.0,41.0,42.0,43.0,44.0,45.0,46.0,47.0,48.0,49.0,50.0,51.0,52.0,53.0,54.0,55.0,56.0,57.0,58.0,59.0],\"y\":[320.0,435.2,491.6,499.86,500.0,500.0,500.0,500.0,500.0,500.0,500.0,500.0,500.0,500.0,500.0,500.0,500.0,500.0,500.0,500.0,500.0,500.0,500.0,500.0,500.0,500.0,500.0,500.0,500.0,500.0,500.0,500.0,500.0,500.0,500.0,500.0,500.0,500.0,500.0,500.0,500.0,500.0,500.0,500.0,500.0,500.0,500.0,500.0,500.0,500.0,500.0,500.0,500.0,500.0,500.0,500.0,500.0,500.0,500.0,500.0],\"line\":{\"shape\":\"spline\"},\"marker\":{\"color\":\"blue\"}},{\"type\":\"scatter\",\"x\":[0.0,1.0,2.0,3.0,4.0,5.0,6.0,7.0,8.0,9.0,10.0,11.0,12.0,13.0,14.0,15.0,16.0,17.0,18.0,19.0,20.0,21.0,22.0,23.0,24.0,25.0,26.0,27.0,28.0,29.0,30.0,31.0,32.0,33.0,34.0,35.0,36.0,37.0,38.0,39.0,40.0,41.0,42.0,43.0,44.0,45.0,46.0,47.0,48.0,49.0,50.0,51.0,52.0,53.0,54.0,55.0,56.0,57.0,58.0,59.0],\"y\":[360.0,590.4,832.23,971.85,999.21,1000.0,1000.0,1000.0,1000.0,1000.0,1000.0,1000.0,1000.0,1000.0,1000.0,1000.0,1000.0,1000.0,1000.0,1000.0,1000.0,1000.0,1000.0,1000.0,1000.0,1000.0,1000.0,1000.0,1000.0,1000.0,1000.0,1000.0,1000.0,1000.0,1000.0,1000.0,1000.0,1000.0,1000.0,1000.0,1000.0,1000.0,1000.0,1000.0,1000.0,1000.0,1000.0,1000.0,1000.0,1000.0,1000.0,1000.0,1000.0,1000.0,1000.0,1000.0,1000.0,1000.0,1000.0,1000.0],\"line\":{\"shape\":\"spline\"},\"marker\":{\"color\":\"green\"}},{\"type\":\"scatter\",\"x\":[0.0,1.0,2.0,3.0,4.0,5.0,6.0,7.0,8.0,9.0,10.0,11.0,12.0,13.0,14.0,15.0,16.0,17.0,18.0,19.0,20.0,21.0,22.0,23.0,24.0,25.0,26.0,27.0,28.0,29.0,30.0,31.0,32.0,33.0,34.0,35.0,36.0,37.0,38.0,39.0,40.0,41.0,42.0,43.0,44.0,45.0,46.0,47.0,48.0,49.0,50.0,51.0,52.0,53.0,54.0,55.0,56.0,57.0,58.0,59.0],\"y\":[320.0,628.55,1194.07,2140.57,3488.85,4916.96,5696.53,5373.79,4444.67,3555.6,2870.87,2357.64,1967.85,1666.04,1427.99,1237.12,1081.83,953.85,847.17,757.34,681.01,615.61,559.15,510.1,467.2,429.48,396.13,366.52,340.09,316.42,295.13,275.91,258.51,242.7,228.29,215.13,203.07,192.0,181.81,172.4,163.71,155.66,148.19,141.24,134.77,128.73,123.09,117.81,112.86,108.22,103.86,99.76,95.89,92.25,88.81,85.56,82.48,79.57,76.8,74.18],\"line\":{\"shape\":\"spline\"},\"marker\":{\"color\":\"red\"}}];\n",
       "           var layout = {\"title\":\"Модель роста популяции\",\"xaxis\":{\"title\":\"Время, шаг: 1\",\"_isSubplotObj\":true},\"yaxis\":{\"title\":\"Популяция\",\"_isSubplotObj\":true}};\n",
       "           Plotly.newPlot('e77e6134-e325-4b57-839e-46523e46c5c8', data, layout);\n",
       "        \n",
       "});\n",
       "};\n",
       "// ensure `require` is available globally\r\n",
       "if ((typeof(require) !==  typeof(Function)) || (typeof(require.config) !== typeof(Function))) {\r\n",
       "    let require_script = document.createElement('script');\r\n",
       "    require_script.setAttribute('src', 'https://cdnjs.cloudflare.com/ajax/libs/require.js/2.3.6/require.min.js');\r\n",
       "    require_script.setAttribute('type', 'text/javascript');\r\n",
       "    \r\n",
       "    \r\n",
       "    require_script.onload = function() {\r\n",
       "        renderPlotly();\r\n",
       "    };\r\n",
       "\r\n",
       "    document.getElementsByTagName('head')[0].appendChild(require_script);\r\n",
       "}\r\n",
       "else {\r\n",
       "    renderPlotly();\r\n",
       "}\r\n",
       "\n",
       "</script>\n"
      ]
     },
     "metadata": {},
     "output_type": "display_data"
    }
   ],
   "source": [
    "var timeLimit = 60.0;\n",
    "var time = new List<double>();\n",
    "for (double i = timeStart; i < timeLimit; i += timeStep) { time.Add(i); }\n",
    "\n",
    "var third1 = new MalthusianGrowthModel()\n",
    "    .WithN0(people)\n",
    "    .WithT0(timeStart)\n",
    "    .WithA(10)\n",
    "    .WithB(9)\n",
    "    .WithY(500.0)\n",
    "    .WithOutter((prev, t) => 1)\n",
    "    .Run(timeStep, timeLimit, Method.OutterForce);\n",
    "\n",
    "var third2 = new MalthusianGrowthModel()\n",
    "    .WithN0(people)\n",
    "    .WithT0(timeStart)\n",
    "    .WithA(10)\n",
    "    .WithB(9)\n",
    "    .WithY(500.0)\n",
    "    .WithOutter((prev, t) => 2)\n",
    "    .Run(timeStep, timeLimit, Method.OutterForce);\n",
    "\n",
    "var third3 = new MalthusianGrowthModel()\n",
    "    .WithN0(people)\n",
    "    .WithT0(timeStart)\n",
    "    .WithA(10)\n",
    "    .WithB(9)\n",
    "    .WithY(500.0)\n",
    "    .WithOutter((prev, t) => t == 0 ? 1 : Math.Sqrt(prev) / t)\n",
    "    .Run(timeStep, timeLimit, Method.OutterForce);\n",
    "\n",
    "var thirdScatter1 = new Scatter\n",
    "{   \n",
    "    x = time,\n",
    "    y = third1,\n",
    "    marker = new Marker { color = \"blue\" },\n",
    "    line = new Line { shape = \"spline\" }\n",
    "};\n",
    "\n",
    "var thirdScatter2 = new Scatter\n",
    "{   \n",
    "    x = time,\n",
    "    y = third2,\n",
    "    marker = new Marker { color = \"green\" },\n",
    "    line = new Line { shape = \"spline\" }\n",
    "};\n",
    "\n",
    "var thirdScatter3 = new Scatter\n",
    "{   \n",
    "    x = time,\n",
    "    y = third3,\n",
    "    marker = new Marker { color = \"red\" },\n",
    "    line = new Line { shape = \"spline\" }\n",
    "};\n",
    "\n",
    "Chart.Plot(new List<Trace>() { thirdScatter1, thirdScatter2, thirdScatter3 }, layout)"
   ]
  }
 ],
 "metadata": {
  "language_info": {
   "name": "python"
  },
  "orig_nbformat": 4
 },
 "nbformat": 4,
 "nbformat_minor": 2
}
