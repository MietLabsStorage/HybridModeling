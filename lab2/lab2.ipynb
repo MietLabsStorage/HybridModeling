{
 "cells": [
  {
   "attachments": {},
   "cell_type": "markdown",
   "metadata": {},
   "source": [
    "#### Линеный конгруентный метод"
   ]
  },
  {
   "cell_type": "code",
   "execution_count": 52,
   "metadata": {
    "dotnet_interactive": {
     "language": "csharp"
    },
    "vscode": {
     "languageId": "polyglot-notebook"
    }
   },
   "outputs": [],
   "source": [
    "class LinearCongruentialGenerator\n",
    "{\n",
    "    private int _a;\n",
    "    private int _c;\n",
    "    private int _m;\n",
    "    private int _currentX;\n",
    "    private int? _period;\n",
    "    \n",
    "    public LinearCongruentialGenerator(int a, int c, int m, int x0, bool generatePeriod = true)\n",
    "    {\n",
    "        _a = a;\n",
    "        _c = c;\n",
    "        _m = m;\n",
    "        _currentX = x0;\n",
    "        _period = generatePeriod ? GeneratePeriod() : null;\n",
    "    }\n",
    "\n",
    "    public int Period => _period ?? GeneratePeriod();\n",
    "\n",
    "    public int Next() {\n",
    "        _currentX = (_a * _currentX + _c) % _m;\n",
    "        return _currentX;\n",
    "    }\n",
    "\n",
    "    public IEnumerable<int> NextMany(int count) {\n",
    "        var nums = new List<int>();\n",
    "        for (var i = 0; i < count; i++) {\n",
    "            nums.Add(Next());\n",
    "        }\n",
    "        return nums;\n",
    "    }\n",
    "\n",
    "    private int GeneratePeriod() {\n",
    "        var x = Next();\n",
    "        var t = 1;\n",
    "        while (x != Next())\n",
    "        {\n",
    "            t++;\n",
    "        }\n",
    "        _period = t;\n",
    "        return t;\n",
    "    }\n",
    "}"
   ]
  },
  {
   "cell_type": "code",
   "execution_count": 53,
   "metadata": {
    "dotnet_interactive": {
     "language": "csharp"
    },
    "vscode": {
     "languageId": "polyglot-notebook"
    }
   },
   "outputs": [],
   "source": [
    "var lcg = new LinearCongruentialGenerator(37, 41, 1001, 5);"
   ]
  },
  {
   "cell_type": "code",
   "execution_count": 54,
   "metadata": {
    "dotnet_interactive": {
     "language": "csharp"
    },
    "vscode": {
     "languageId": "polyglot-notebook"
    }
   },
   "outputs": [
    {
     "data": {
      "text/html": [
       "<div class=\"dni-plaintext\"><pre>15</pre></div><style>\r\n",
       ".dni-code-hint {\r\n",
       "    font-style: italic;\r\n",
       "    overflow: hidden;\r\n",
       "    white-space: nowrap;\r\n",
       "}\r\n",
       ".dni-treeview {\r\n",
       "    white-space: nowrap;\r\n",
       "}\r\n",
       ".dni-treeview td {\r\n",
       "    vertical-align: top;\r\n",
       "    text-align: start;\r\n",
       "}\r\n",
       "details.dni-treeview {\r\n",
       "    padding-left: 1em;\r\n",
       "}\r\n",
       "table td {\r\n",
       "    text-align: start;\r\n",
       "}\r\n",
       "table tr { \r\n",
       "    vertical-align: top; \r\n",
       "    margin: 0em 0px;\r\n",
       "}\r\n",
       "table tr td pre \r\n",
       "{ \r\n",
       "    vertical-align: top !important; \r\n",
       "    margin: 0em 0px !important;\r\n",
       "} \r\n",
       "table th {\r\n",
       "    text-align: start;\r\n",
       "}\r\n",
       "</style>"
      ]
     },
     "metadata": {},
     "output_type": "display_data"
    },
    {
     "data": {
      "text/html": [
       "<div class=\"dni-plaintext\"><pre>[ 395, 642, 772, 577, 369, 681, 213, 915, 863, 941, 824, 499, 486, 5, 226, 395, 642, 772, 577, 369 ]</pre></div><style>\r\n",
       ".dni-code-hint {\r\n",
       "    font-style: italic;\r\n",
       "    overflow: hidden;\r\n",
       "    white-space: nowrap;\r\n",
       "}\r\n",
       ".dni-treeview {\r\n",
       "    white-space: nowrap;\r\n",
       "}\r\n",
       ".dni-treeview td {\r\n",
       "    vertical-align: top;\r\n",
       "    text-align: start;\r\n",
       "}\r\n",
       "details.dni-treeview {\r\n",
       "    padding-left: 1em;\r\n",
       "}\r\n",
       "table td {\r\n",
       "    text-align: start;\r\n",
       "}\r\n",
       "table tr { \r\n",
       "    vertical-align: top; \r\n",
       "    margin: 0em 0px;\r\n",
       "}\r\n",
       "table tr td pre \r\n",
       "{ \r\n",
       "    vertical-align: top !important; \r\n",
       "    margin: 0em 0px !important;\r\n",
       "} \r\n",
       "table th {\r\n",
       "    text-align: start;\r\n",
       "}\r\n",
       "</style>"
      ]
     },
     "metadata": {},
     "output_type": "display_data"
    }
   ],
   "source": [
    "display(lcg.Period);\n",
    "display(lcg.NextMany(20))"
   ]
  },
  {
   "cell_type": "code",
   "execution_count": 55,
   "metadata": {
    "dotnet_interactive": {
     "language": "csharp"
    },
    "vscode": {
     "languageId": "polyglot-notebook"
    }
   },
   "outputs": [
    {
     "data": {
      "text/html": [
       "<div><div></div><div></div><div><strong>Installed Packages</strong><ul><li><span>Microsoft.Data.Analysis, 0.20.1</span></li><li><span>XPlot.Plotly, 4.0.6</span></li><li><span>XPlot.Plotly.Interactive, 4.0.6</span></li></ul></div></div>"
      ]
     },
     "metadata": {},
     "output_type": "display_data"
    }
   ],
   "source": [
    "#r \"nuget:XPlot.Plotly\"\n",
    "#r \"nuget:Microsoft.Data.Analysis\"\n",
    "#r \"nuget:XPlot.Plotly.Interactive\""
   ]
  },
  {
   "cell_type": "code",
   "execution_count": 56,
   "metadata": {
    "dotnet_interactive": {
     "language": "csharp"
    },
    "vscode": {
     "languageId": "polyglot-notebook"
    }
   },
   "outputs": [],
   "source": [
    "using XPlot.Plotly;\n",
    "using Microsoft.Data.Analysis;\n",
    "using System.Linq;\n",
    "using XPlot.Plotly.Interactive;"
   ]
  },
  {
   "cell_type": "code",
   "execution_count": 57,
   "metadata": {
    "dotnet_interactive": {
     "language": "csharp"
    },
    "vscode": {
     "languageId": "polyglot-notebook"
    }
   },
   "outputs": [],
   "source": [
    "var count = 900;\n",
    "var nums = lcg.NextMany(count);\n",
    "var groups = nums.GroupBy(n => n).Select(n => new { X = n.Key, Count = n.Count() });"
   ]
  },
  {
   "cell_type": "code",
   "execution_count": 58,
   "metadata": {
    "dotnet_interactive": {
     "language": "csharp"
    },
    "polyglot_notebook": {
     "kernelName": "csharp"
    },
    "vscode": {
     "languageId": "polyglot-notebook"
    }
   },
   "outputs": [
    {
     "data": {
      "text/html": [
       "<!DOCTYPE html>\n",
       "<div style=\"width: 900px; height: 500px;\" id=\"22dde862-d2a9-4b38-bc18-730df6a0277e\"></div><script type=\"text/javascript\">\n",
       "\n",
       "var renderPlotly = function() {\n",
       "    var xplotRequire = require.config({context:'xplot-3.0.1',paths:{plotly:'https://cdn.plot.ly/plotly-1.49.2.min'}}) || require;\n",
       "    xplotRequire(['plotly'], function(Plotly) { \n",
       "\n",
       "            var data = [{\"type\":\"bar\",\"x\":[681,213,915,863,941,824,499,486,5,226,395,642,772,577,369],\"y\":[60,60,60,60,60,60,60,60,60,60,60,60,60,60,60],\"marker\":{\"color\":\"green\"}}];\n",
       "           var layout = {\"title\":\"Количество одинаковых значений для сгенерированных 900 значений\",\"xaxis\":{\"title\":\"Значение\",\"_isSubplotObj\":true},\"yaxis\":{\"title\":\"Количество\",\"_isSubplotObj\":true}};\n",
       "           Plotly.newPlot('22dde862-d2a9-4b38-bc18-730df6a0277e', data, layout);\n",
       "        \n",
       "});\n",
       "};\n",
       "// ensure `require` is available globally\r\n",
       "if ((typeof(require) !==  typeof(Function)) || (typeof(require.config) !== typeof(Function))) {\r\n",
       "    let require_script = document.createElement('script');\r\n",
       "    require_script.setAttribute('src', 'https://cdnjs.cloudflare.com/ajax/libs/require.js/2.3.6/require.min.js');\r\n",
       "    require_script.setAttribute('type', 'text/javascript');\r\n",
       "    \r\n",
       "    \r\n",
       "    require_script.onload = function() {\r\n",
       "        renderPlotly();\r\n",
       "    };\r\n",
       "\r\n",
       "    document.getElementsByTagName('head')[0].appendChild(require_script);\r\n",
       "}\r\n",
       "else {\r\n",
       "    renderPlotly();\r\n",
       "}\r\n",
       "\n",
       "</script>\n"
      ]
     },
     "metadata": {},
     "output_type": "display_data"
    }
   ],
   "source": [
    "var bar = new Bar\n",
    "{   \n",
    "    x = groups.Select(x => x.X),\n",
    "    y = groups.Select(x => x.Count),\n",
    "    marker = new Marker { color = \"green\" }\n",
    "};\n",
    "\n",
    "var layout = new Layout.Layout \n",
    "{\n",
    "    xaxis = new Xaxis \n",
    "    {\n",
    "        title = \"Значение\",\n",
    "    },\n",
    "    yaxis = new Yaxis\n",
    "    {\n",
    "        title = \"Количество\"\n",
    "    },\n",
    "    title = $\"Количество одинаковых значений для сгенерированных {count} значений\"\n",
    "};\n",
    "\n",
    "Chart.Plot(bar, layout)"
   ]
  },
  {
   "attachments": {},
   "cell_type": "markdown",
   "metadata": {},
   "source": [
    "Проверим посследовательность из младших разрядов"
   ]
  },
  {
   "cell_type": "code",
   "execution_count": 59,
   "metadata": {
    "dotnet_interactive": {
     "language": "csharp"
    },
    "polyglot_notebook": {
     "kernelName": "csharp"
    },
    "vscode": {
     "languageId": "polyglot-notebook"
    }
   },
   "outputs": [
    {
     "data": {
      "text/html": [
       "<div class=\"dni-plaintext\"><pre>[ 1, 3, 5, 3, 1, 4, 9, 6, 5, 6, 5, 2, 2, 7, 9, 1, 3, 5, 3, 1 ... (more) ]</pre></div><style>\r\n",
       ".dni-code-hint {\r\n",
       "    font-style: italic;\r\n",
       "    overflow: hidden;\r\n",
       "    white-space: nowrap;\r\n",
       "}\r\n",
       ".dni-treeview {\r\n",
       "    white-space: nowrap;\r\n",
       "}\r\n",
       ".dni-treeview td {\r\n",
       "    vertical-align: top;\r\n",
       "    text-align: start;\r\n",
       "}\r\n",
       "details.dni-treeview {\r\n",
       "    padding-left: 1em;\r\n",
       "}\r\n",
       "table td {\r\n",
       "    text-align: start;\r\n",
       "}\r\n",
       "table tr { \r\n",
       "    vertical-align: top; \r\n",
       "    margin: 0em 0px;\r\n",
       "}\r\n",
       "table tr td pre \r\n",
       "{ \r\n",
       "    vertical-align: top !important; \r\n",
       "    margin: 0em 0px !important;\r\n",
       "} \r\n",
       "table th {\r\n",
       "    text-align: start;\r\n",
       "}\r\n",
       "</style>"
      ]
     },
     "metadata": {},
     "output_type": "display_data"
    }
   ],
   "source": [
    "var littles = nums.Select(x => x % 10);\n",
    "var groupsLittle = littles.GroupBy(n => n).Select(n => new { X = n.Key, Count = n.Count() });\n",
    "display(littles)"
   ]
  },
  {
   "cell_type": "code",
   "execution_count": 60,
   "metadata": {
    "dotnet_interactive": {
     "language": "csharp"
    },
    "polyglot_notebook": {
     "kernelName": "csharp"
    },
    "vscode": {
     "languageId": "polyglot-notebook"
    }
   },
   "outputs": [
    {
     "data": {
      "text/html": [
       "<!DOCTYPE html>\n",
       "<div style=\"width: 900px; height: 500px;\" id=\"1bd9d0cf-a683-49c6-ba94-9ab01ffff61d\"></div><script type=\"text/javascript\">\n",
       "\n",
       "var renderPlotly = function() {\n",
       "    var xplotRequire = require.config({context:'xplot-3.0.1',paths:{plotly:'https://cdn.plot.ly/plotly-1.49.2.min'}}) || require;\n",
       "    xplotRequire(['plotly'], function(Plotly) { \n",
       "\n",
       "            var data = [{\"type\":\"bar\",\"x\":[1,3,5,4,9,6,2,7],\"y\":[120,120,180,60,120,120,120,60],\"marker\":{\"color\":\"green\"}}];\n",
       "           var layout = {\"title\":\"Младшие разряды\",\"xaxis\":{\"title\":\"Значение\",\"_isSubplotObj\":true},\"yaxis\":{\"title\":\"Количество\",\"_isSubplotObj\":true}};\n",
       "           Plotly.newPlot('1bd9d0cf-a683-49c6-ba94-9ab01ffff61d', data, layout);\n",
       "        \n",
       "});\n",
       "};\n",
       "// ensure `require` is available globally\r\n",
       "if ((typeof(require) !==  typeof(Function)) || (typeof(require.config) !== typeof(Function))) {\r\n",
       "    let require_script = document.createElement('script');\r\n",
       "    require_script.setAttribute('src', 'https://cdnjs.cloudflare.com/ajax/libs/require.js/2.3.6/require.min.js');\r\n",
       "    require_script.setAttribute('type', 'text/javascript');\r\n",
       "    \r\n",
       "    \r\n",
       "    require_script.onload = function() {\r\n",
       "        renderPlotly();\r\n",
       "    };\r\n",
       "\r\n",
       "    document.getElementsByTagName('head')[0].appendChild(require_script);\r\n",
       "}\r\n",
       "else {\r\n",
       "    renderPlotly();\r\n",
       "}\r\n",
       "\n",
       "</script>\n"
      ]
     },
     "metadata": {},
     "output_type": "display_data"
    }
   ],
   "source": [
    "var barLittle = new Bar\n",
    "{   \n",
    "    x = groupsLittle.Select(x => x.X),\n",
    "    y = groupsLittle.Select(x => x.Count),\n",
    "    marker = new Marker { color = \"green\" }\n",
    "};\n",
    "\n",
    "var layoutLittle = new Layout.Layout \n",
    "{\n",
    "    xaxis = new Xaxis \n",
    "    {\n",
    "        title = \"Значение\",\n",
    "    },\n",
    "    yaxis = new Yaxis\n",
    "    {\n",
    "        title = \"Количество\"\n",
    "    },\n",
    "    title = $\"Младшие разряды\"\n",
    "};\n",
    "\n",
    "Chart.Plot(barLittle, layoutLittle)"
   ]
  },
  {
   "attachments": {},
   "cell_type": "markdown",
   "metadata": {},
   "source": [
    "#### ЦПТ"
   ]
  },
  {
   "cell_type": "code",
   "execution_count": 61,
   "metadata": {
    "dotnet_interactive": {
     "language": "csharp"
    },
    "polyglot_notebook": {
     "kernelName": "csharp"
    },
    "vscode": {
     "languageId": "polyglot-notebook"
    }
   },
   "outputs": [],
   "source": [
    "class CLT\n",
    "{\n",
    "    private LinearCongruentialGenerator _lcg;\n",
    "    public int Mean => 6;\n",
    "    public int Variance => 1;\n",
    "    public int LcgPeriod { get; init;}\n",
    "\n",
    "    public CLT()\n",
    "    {\n",
    "        _lcg = new LinearCongruentialGenerator(211, 1663, 7875, 3, true);\n",
    "        LcgPeriod = _lcg.Period;\n",
    "    }\n",
    "\n",
    "    public double Next()\n",
    "    {\n",
    "        return (_lcg.NextMany(12).Select(x => x ).Sum() - Mean) / Variance;\n",
    "    }\n",
    "\n",
    "    public IEnumerable<double> NextMany(int count) {\n",
    "        var nums = new List<double>();\n",
    "        for (var i = 0; i < count; i++) {\n",
    "            nums.Add(Next());\n",
    "        }\n",
    "        return nums;\n",
    "    }\n",
    "}"
   ]
  },
  {
   "cell_type": "code",
   "execution_count": 62,
   "metadata": {
    "dotnet_interactive": {
     "language": "csharp"
    },
    "polyglot_notebook": {
     "kernelName": "csharp"
    },
    "vscode": {
     "languageId": "polyglot-notebook"
    }
   },
   "outputs": [
    {
     "data": {
      "text/html": [
       "<div class=\"dni-plaintext\"><pre>7875</pre></div><style>\r\n",
       ".dni-code-hint {\r\n",
       "    font-style: italic;\r\n",
       "    overflow: hidden;\r\n",
       "    white-space: nowrap;\r\n",
       "}\r\n",
       ".dni-treeview {\r\n",
       "    white-space: nowrap;\r\n",
       "}\r\n",
       ".dni-treeview td {\r\n",
       "    vertical-align: top;\r\n",
       "    text-align: start;\r\n",
       "}\r\n",
       "details.dni-treeview {\r\n",
       "    padding-left: 1em;\r\n",
       "}\r\n",
       "table td {\r\n",
       "    text-align: start;\r\n",
       "}\r\n",
       "table tr { \r\n",
       "    vertical-align: top; \r\n",
       "    margin: 0em 0px;\r\n",
       "}\r\n",
       "table tr td pre \r\n",
       "{ \r\n",
       "    vertical-align: top !important; \r\n",
       "    margin: 0em 0px !important;\r\n",
       "} \r\n",
       "table th {\r\n",
       "    text-align: start;\r\n",
       "}\r\n",
       "</style>"
      ]
     },
     "metadata": {},
     "output_type": "display_data"
    }
   ],
   "source": [
    "var clt = new CLT();\n",
    "display(clt.LcgPeriod);"
   ]
  },
  {
   "cell_type": "code",
   "execution_count": 63,
   "metadata": {
    "dotnet_interactive": {
     "language": "csharp"
    },
    "polyglot_notebook": {
     "kernelName": "csharp"
    },
    "vscode": {
     "languageId": "polyglot-notebook"
    }
   },
   "outputs": [],
   "source": [
    "var count = clt.LcgPeriod;\n",
    "var nums = clt.NextMany(count);\n",
    "var ranges = new[] { 0, 5000, 10000, 15000, 25000, 30000, 35000, 40000, 45000, 50000, 55000, 60000, 65000, 70000, 75000 };\n",
    "var groups = nums.GroupBy(n => ranges.FirstOrDefault(r => r >= n)).Select(n => new { X = n.Key, Count = n.Count() });\n",
    "\n",
    "var normalNums = new List<double>();\n",
    "var normals = new List<double>();\n",
    "var s = 10000;\n",
    "var coef = 47000000;\n",
    "var m = 50000;\n",
    "for (double i = m - 3 * s; i < m + 3 * s; i += s / 100)\n",
    "{\n",
    "    var n =  coef * (1 / (s * Math.Sqrt(2 * Math.PI)) * Math.Exp(-0.5 * Math.Pow((i - m) / s, 2)));\n",
    "    normalNums.Add(n);\n",
    "    normals.Add(i);\n",
    "}"
   ]
  },
  {
   "cell_type": "code",
   "execution_count": 64,
   "metadata": {
    "dotnet_interactive": {
     "language": "csharp"
    },
    "polyglot_notebook": {
     "kernelName": "csharp"
    },
    "vscode": {
     "languageId": "polyglot-notebook"
    }
   },
   "outputs": [
    {
     "data": {
      "text/html": [
       "<!DOCTYPE html>\n",
       "<div style=\"width: 900px; height: 500px;\" id=\"f590a374-6451-4f8c-81f9-b53e72050ae9\"></div><script type=\"text/javascript\">\n",
       "\n",
       "var renderPlotly = function() {\n",
       "    var xplotRequire = require.config({context:'xplot-3.0.1',paths:{plotly:'https://cdn.plot.ly/plotly-1.49.2.min'}}) || require;\n",
       "    xplotRequire(['plotly'], function(Plotly) { \n",
       "\n",
       "            var data = [{\"type\":\"bar\",\"x\":[35000,60000,40000,45000,70000,55000,50000,65000,30000,75000,25000],\"y\":[369,864,1020,1668,108,1509,1899,345,84,6,3],\"marker\":{\"color\":\"green\"}},{\"type\":\"scatter\",\"x\":[20000.0,20100.0,20200.0,20300.0,20400.0,20500.0,20600.0,20700.0,20800.0,20900.0,21000.0,21100.0,21200.0,21300.0,21400.0,21500.0,21600.0,21700.0,21800.0,21900.0,22000.0,22100.0,22200.0,22300.0,22400.0,22500.0,22600.0,22700.0,22800.0,22900.0,23000.0,23100.0,23200.0,23300.0,23400.0,23500.0,23600.0,23700.0,23800.0,23900.0,24000.0,24100.0,24200.0,24300.0,24400.0,24500.0,24600.0,24700.0,24800.0,24900.0,25000.0,25100.0,25200.0,25300.0,25400.0,25500.0,25600.0,25700.0,25800.0,25900.0,26000.0,26100.0,26200.0,26300.0,26400.0,26500.0,26600.0,26700.0,26800.0,26900.0,27000.0,27100.0,27200.0,27300.0,27400.0,27500.0,27600.0,27700.0,27800.0,27900.0,28000.0,28100.0,28200.0,28300.0,28400.0,28500.0,28600.0,28700.0,28800.0,28900.0,29000.0,29100.0,29200.0,29300.0,29400.0,29500.0,29600.0,29700.0,29800.0,29900.0,30000.0,30100.0,30200.0,30300.0,30400.0,30500.0,30600.0,30700.0,30800.0,30900.0,31000.0,31100.0,31200.0,31300.0,31400.0,31500.0,31600.0,31700.0,31800.0,31900.0,32000.0,32100.0,32200.0,32300.0,32400.0,32500.0,32600.0,32700.0,32800.0,32900.0,33000.0,33100.0,33200.0,33300.0,33400.0,33500.0,33600.0,33700.0,33800.0,33900.0,34000.0,34100.0,34200.0,34300.0,34400.0,34500.0,34600.0,34700.0,34800.0,34900.0,35000.0,35100.0,35200.0,35300.0,35400.0,35500.0,35600.0,35700.0,35800.0,35900.0,36000.0,36100.0,36200.0,36300.0,36400.0,36500.0,36600.0,36700.0,36800.0,36900.0,37000.0,37100.0,37200.0,37300.0,37400.0,37500.0,37600.0,37700.0,37800.0,37900.0,38000.0,38100.0,38200.0,38300.0,38400.0,38500.0,38600.0,38700.0,38800.0,38900.0,39000.0,39100.0,39200.0,39300.0,39400.0,39500.0,39600.0,39700.0,39800.0,39900.0,40000.0,40100.0,40200.0,40300.0,40400.0,40500.0,40600.0,40700.0,40800.0,40900.0,41000.0,41100.0,41200.0,41300.0,41400.0,41500.0,41600.0,41700.0,41800.0,41900.0,42000.0,42100.0,42200.0,42300.0,42400.0,42500.0,42600.0,42700.0,42800.0,42900.0,43000.0,43100.0,43200.0,43300.0,43400.0,43500.0,43600.0,43700.0,43800.0,43900.0,44000.0,44100.0,44200.0,44300.0,44400.0,44500.0,44600.0,44700.0,44800.0,44900.0,45000.0,45100.0,45200.0,45300.0,45400.0,45500.0,45600.0,45700.0,45800.0,45900.0,46000.0,46100.0,46200.0,46300.0,46400.0,46500.0,46600.0,46700.0,46800.0,46900.0,47000.0,47100.0,47200.0,47300.0,47400.0,47500.0,47600.0,47700.0,47800.0,47900.0,48000.0,48100.0,48200.0,48300.0,48400.0,48500.0,48600.0,48700.0,48800.0,48900.0,49000.0,49100.0,49200.0,49300.0,49400.0,49500.0,49600.0,49700.0,49800.0,49900.0,50000.0,50100.0,50200.0,50300.0,50400.0,50500.0,50600.0,50700.0,50800.0,50900.0,51000.0,51100.0,51200.0,51300.0,51400.0,51500.0,51600.0,51700.0,51800.0,51900.0,52000.0,52100.0,52200.0,52300.0,52400.0,52500.0,52600.0,52700.0,52800.0,52900.0,53000.0,53100.0,53200.0,53300.0,53400.0,53500.0,53600.0,53700.0,53800.0,53900.0,54000.0,54100.0,54200.0,54300.0,54400.0,54500.0,54600.0,54700.0,54800.0,54900.0,55000.0,55100.0,55200.0,55300.0,55400.0,55500.0,55600.0,55700.0,55800.0,55900.0,56000.0,56100.0,56200.0,56300.0,56400.0,56500.0,56600.0,56700.0,56800.0,56900.0,57000.0,57100.0,57200.0,57300.0,57400.0,57500.0,57600.0,57700.0,57800.0,57900.0,58000.0,58100.0,58200.0,58300.0,58400.0,58500.0,58600.0,58700.0,58800.0,58900.0,59000.0,59100.0,59200.0,59300.0,59400.0,59500.0,59600.0,59700.0,59800.0,59900.0,60000.0,60100.0,60200.0,60300.0,60400.0,60500.0,60600.0,60700.0,60800.0,60900.0,61000.0,61100.0,61200.0,61300.0,61400.0,61500.0,61600.0,61700.0,61800.0,61900.0,62000.0,62100.0,62200.0,62300.0,62400.0,62500.0,62600.0,62700.0,62800.0,62900.0,63000.0,63100.0,63200.0,63300.0,63400.0,63500.0,63600.0,63700.0,63800.0,63900.0,64000.0,64100.0,64200.0,64300.0,64400.0,64500.0,64600.0,64700.0,64800.0,64900.0,65000.0,65100.0,65200.0,65300.0,65400.0,65500.0,65600.0,65700.0,65800.0,65900.0,66000.0,66100.0,66200.0,66300.0,66400.0,66500.0,66600.0,66700.0,66800.0,66900.0,67000.0,67100.0,67200.0,67300.0,67400.0,67500.0,67600.0,67700.0,67800.0,67900.0,68000.0,68100.0,68200.0,68300.0,68400.0,68500.0,68600.0,68700.0,68800.0,68900.0,69000.0,69100.0,69200.0,69300.0,69400.0,69500.0,69600.0,69700.0,69800.0,69900.0,70000.0,70100.0,70200.0,70300.0,70400.0,70500.0,70600.0,70700.0,70800.0,70900.0,71000.0,71100.0,71200.0,71300.0,71400.0,71500.0,71600.0,71700.0,71800.0,71900.0,72000.0,72100.0,72200.0,72300.0,72400.0,72500.0,72600.0,72700.0,72800.0,72900.0,73000.0,73100.0,73200.0,73300.0,73400.0,73500.0,73600.0,73700.0,73800.0,73900.0,74000.0,74100.0,74200.0,74300.0,74400.0,74500.0,74600.0,74700.0,74800.0,74900.0,75000.0,75100.0,75200.0,75300.0,75400.0,75500.0,75600.0,75700.0,75800.0,75900.0,76000.0,76100.0,76200.0,76300.0,76400.0,76500.0,76600.0,76700.0,76800.0,76900.0,77000.0,77100.0,77200.0,77300.0,77400.0,77500.0,77600.0,77700.0,77800.0,77900.0,78000.0,78100.0,78200.0,78300.0,78400.0,78500.0,78600.0,78700.0,78800.0,78900.0,79000.0,79100.0,79200.0,79300.0,79400.0,79500.0,79600.0,79700.0,79800.0,79900.0],\"y\":[20.829687536108633,21.462972786949678,22.113300376589702,22.781054658101034,23.46662630397817,24.17041233835351,24.89281616696179,25.634247604765765,26.39512290115755,27.17586476264652,27.976902372946512,28.79867141037133,29.641614062449854,30.50617903766881,31.392821574252316,32.30200344588566,33.23419296429141,34.189864978563726,35.16950087116865,36.17358855051541,37.20262244000585,38.2571034634663,39.33753902686925,40.44444299624846,41.57833567171498,42.739743757477946,43.92920032777773,45.14724478863606,46.39442283533032,47.67128640549926,48.978393627786176,50.31630876592928,51.68560215820619,53.08685015214383,54.520635034402034,55.98754495574434,57.48817385100646,59.02312135397759,60.592992707107925,62.198398665960454,63.83995539832238,65.51828437789838,67.23401227250355,68.98777082668221,70.78019673867401,72.6119315316573,74.48362141919584,76.39591716482238,78.34947393569095,80.34495115023569,82.38301231977213,84.46432488398627,86.58956004025161,88.75939256672396,90.97450063916371,93.23556564143797,95.54327196966143,97.89830682993328,100.30136002963708,102.75312376226812,105.25429238576163,107.80556219429526,110.4076311835464,113.06119880938597,115.76696573999777,118.5256336014136,121.33790471646213,124.20448183713009,127.12606787034437,130.10336559718186,133.13707738552557,136.22790489618424,139.376548782504,142.5837083834987,145.85008141053888,149.17636362763687,152.56324852537796,156.01142698854727,159.52158695751115,163.09441308341846,166.7305863772877,170.43078385305924,174.1956781646904,178.02593723738417,181.92222389304135,185.88519547004003,189.91550343744345,194.01379300375297,198.18070272032045,202.41686407954896,206.7229011080078,211.09942995460537,215.54705847395795,220.06638580511085,224.658001945762,229.322487322159,234.06041235483264,238.87233702034865,243.75881040925665,248.72037028042948,253.75754261198387,258.8708411489911,264.06076694817983,269.3278079198505,274.6724383672219,280.09511852343553,285.5962940864544,291.17639575209427,296.83583874543365,302.57502235085593,308.39432944097996,314.2941260047436,320.27476067490954,326.3365642552686,332.47984924782185,338.70490938022454,345.01201913378736,351.40143327232767,357.87338637217437,364.4280923536297,371.0657440142025,377.7865125639246,384.5905471630712,391.47797446261,398.4488981477045,405.50339848460413,412.6415318712564,419.8633303919784,427.1688013765295,434.55792696392916,442.03066367136864,449.5869419685628,457.2266658578973,464.94971246072146,472.7559316101457,480.6451454506967,488.61714804519187,496.67170498918904,504.8085530333738,513.0273997142425,521.327922993441,529.7097709061215,538.172561218674,546.7158810961934,555.3392867800367,564.0423032758322,572.8244240522884,581.6851107511587,590.6237929087142,599.6398676890667,608.7326996296911,617.9016203994859,627.1459285697109,636.464889398135,645.8577346267243,655.3236622931933,664.8618365567423,674.4713875382934,684.1514111755338,693.9009690930719,703.7190884880009,713.6047620311599,723.5569477843785,733.5745691339779,743.6565147408003,753.8016385070221,764.0087595600104,774.2766622534609,784.6040961860549,794.9897762378602,805.4323826246946,815.9305609706549,826.4829223990132,837.0880436416599,847.7444671672774,858.450701328403,869.2052205275348,880.0064654024288,890.852843030709,901.742727153917,912.6744584211009,923.6463446520418,934.6566611201968,945.7036508554278,956.7855249665694,967.9004629838814,979.0466132214092,990.2220931592719,1001.4249898458738,1012.6533603200324,1023.9052320529875,1035.1786034102563,1046.4714441332774,1057.7816958407673,1069.1072725497138,1080.446061215895,1091.795922293821,1103.1546903159556,1114.5201744910842,1125.8901593216626,1137.2624052399738,1148.634649262898,1160.0046056651008,1171.36996667041,1182.7284031611505,1194.0775654051884,1205.4150838004155,1216.7385696363995,1228.0456158728998,1239.3337979349453,1250.6006745241477,1261.8437884459113,1273.0606674521887,1284.2488250994163,1295.4057616212465,1306.5289648156834,1317.6159109462167,1328.664065656527,1339.670884898334,1350.633815871933,1361.5502979789687,1372.4177637869648,1383.233640005128,1393.9953484709338,1404.7003071469778,1415.3459311275808,1425.9296336546106,1436.4488271419866,1446.9009242083087,1457.2833387170558,1467.5934868237778,1477.8287880297073,1487.986666241196,1498.064550834387,1508.059877724511,1517.970090439197,1527.792641195186,1537.524991977806,1547.1646156225945,1556.708996898419,1566.1556335914584,1575.5020375893987,1584.7457359651885,1593.884272059703,1602.915206562657,1611.8361185911042,1620.6446067648667,1629.3382902782207,1637.91480996718,1646.3718293717113,1654.7070357922078,1662.9181413395643,1671.0028839781862,1678.959028561264,1686.7843678576596,1694.4767235697452,1702.0339473415333,1709.4539217564532,1716.7345613241232,1723.8738134554799,1730.8696594256194,1737.7201153237322,1744.42323298949,1750.977100935287,1757.3798452537035,1763.629630509608,1769.7246606162935,1775.6631796950635,1781.4434729176978,1787.0638673312271,1792.5227326644633,1797.8184821157429,1802.9495731213492,1807.914508104091,1812.7118352015355,1817.3401489733913,1821.7980910875665,1826.0843509844285,1830.197666518815,1834.1368245793492,1837.9006616846427,1841.488064555969,1844.8979706660157,1848.1293687633367,1851.181299372142,1854.0528552670778,1856.7431819226726,1859.2514779371306,1861.5769954301834,1863.7190404147232,1865.6769731419554,1867.450208419835,1869.0382159045616,1870.4405203649299,1871.6567019193524,1872.686396245391,1873.5292947616435,1874.1851447818685,1874.6537496412307,1874.934968794586,1875.0287178867336,1874.934968794586,1874.6537496412307,1874.1851447818685,1873.5292947616435,1872.686396245391,1871.6567019193524,1870.4405203649299,1869.0382159045616,1867.450208419835,1865.6769731419554,1863.7190404147232,1861.5769954301834,1859.2514779371306,1856.7431819226726,1854.0528552670778,1851.181299372142,1848.1293687633367,1844.8979706660157,1841.488064555969,1837.9006616846427,1834.1368245793492,1830.197666518815,1826.0843509844285,1821.7980910875665,1817.3401489733913,1812.7118352015355,1807.914508104091,1802.9495731213492,1797.8184821157429,1792.5227326644633,1787.0638673312271,1781.4434729176978,1775.6631796950635,1769.7246606162935,1763.629630509608,1757.3798452537035,1750.977100935287,1744.42323298949,1737.7201153237322,1730.8696594256194,1723.8738134554799,1716.7345613241232,1709.4539217564532,1702.0339473415333,1694.4767235697452,1686.7843678576596,1678.959028561264,1671.0028839781862,1662.9181413395643,1654.7070357922078,1646.3718293717113,1637.91480996718,1629.3382902782207,1620.6446067648667,1611.8361185911042,1602.915206562657,1593.884272059703,1584.7457359651885,1575.5020375893987,1566.1556335914584,1556.708996898419,1547.1646156225945,1537.524991977806,1527.792641195186,1517.970090439197,1508.059877724511,1498.064550834387,1487.986666241196,1477.8287880297073,1467.5934868237778,1457.2833387170558,1446.9009242083087,1436.4488271419866,1425.9296336546106,1415.3459311275808,1404.7003071469778,1393.9953484709338,1383.233640005128,1372.4177637869648,1361.5502979789687,1350.633815871933,1339.670884898334,1328.664065656527,1317.6159109462167,1306.5289648156834,1295.4057616212465,1284.2488250994163,1273.0606674521887,1261.8437884459113,1250.6006745241477,1239.3337979349453,1228.0456158728998,1216.7385696363995,1205.4150838004155,1194.0775654051884,1182.7284031611505,1171.36996667041,1160.0046056651008,1148.634649262898,1137.2624052399738,1125.8901593216626,1114.5201744910842,1103.1546903159556,1091.795922293821,1080.446061215895,1069.1072725497138,1057.7816958407673,1046.4714441332774,1035.1786034102563,1023.9052320529875,1012.6533603200324,1001.4249898458738,990.2220931592719,979.0466132214092,967.9004629838814,956.7855249665694,945.7036508554278,934.6566611201968,923.6463446520418,912.6744584211009,901.742727153917,890.852843030709,880.0064654024288,869.2052205275348,858.450701328403,847.7444671672774,837.0880436416599,826.4829223990132,815.9305609706549,805.4323826246946,794.9897762378602,784.6040961860549,774.2766622534609,764.0087595600104,753.8016385070221,743.6565147408003,733.5745691339779,723.5569477843785,713.6047620311599,703.7190884880009,693.9009690930719,684.1514111755338,674.4713875382934,664.8618365567423,655.3236622931933,645.8577346267243,636.464889398135,627.1459285697109,617.9016203994859,608.7326996296911,599.6398676890667,590.6237929087142,581.6851107511587,572.8244240522884,564.0423032758322,555.3392867800367,546.7158810961934,538.172561218674,529.7097709061215,521.327922993441,513.0273997142425,504.8085530333738,496.67170498918904,488.61714804519187,480.6451454506967,472.7559316101457,464.94971246072146,457.2266658578973,449.5869419685628,442.03066367136864,434.55792696392916,427.1688013765295,419.8633303919784,412.6415318712564,405.50339848460413,398.4488981477045,391.47797446261,384.5905471630712,377.7865125639246,371.0657440142025,364.4280923536297,357.87338637217437,351.40143327232767,345.01201913378736,338.70490938022454,332.47984924782185,326.3365642552686,320.27476067490954,314.2941260047436,308.39432944097996,302.57502235085593,296.83583874543365,291.17639575209427,285.5962940864544,280.09511852343553,274.6724383672219,269.3278079198505,264.06076694817983,258.8708411489911,253.75754261198387,248.72037028042948,243.75881040925665,238.87233702034865,234.06041235483264,229.322487322159,224.658001945762,220.06638580511085,215.54705847395795,211.09942995460537,206.7229011080078,202.41686407954896,198.18070272032045,194.01379300375297,189.91550343744345,185.88519547004003,181.92222389304135,178.02593723738417,174.1956781646904,170.43078385305924,166.7305863772877,163.09441308341846,159.52158695751115,156.01142698854727,152.56324852537796,149.17636362763687,145.85008141053888,142.5837083834987,139.376548782504,136.22790489618424,133.13707738552557,130.10336559718186,127.12606787034437,124.20448183713009,121.33790471646213,118.5256336014136,115.76696573999777,113.06119880938597,110.4076311835464,107.80556219429526,105.25429238576163,102.75312376226812,100.30136002963708,97.89830682993328,95.54327196966143,93.23556564143797,90.97450063916371,88.75939256672396,86.58956004025161,84.46432488398627,82.38301231977213,80.34495115023569,78.34947393569095,76.39591716482238,74.48362141919584,72.6119315316573,70.78019673867401,68.98777082668221,67.23401227250355,65.51828437789838,63.83995539832238,62.198398665960454,60.592992707107925,59.02312135397759,57.48817385100646,55.98754495574434,54.520635034402034,53.08685015214383,51.68560215820619,50.31630876592928,48.978393627786176,47.67128640549926,46.39442283533032,45.14724478863606,43.92920032777773,42.739743757477946,41.57833567171498,40.44444299624846,39.33753902686925,38.2571034634663,37.20262244000585,36.17358855051541,35.16950087116865,34.189864978563726,33.23419296429141,32.30200344588566,31.392821574252316,30.50617903766881,29.641614062449854,28.79867141037133,27.976902372946512,27.17586476264652,26.39512290115755,25.634247604765765,24.89281616696179,24.17041233835351,23.46662630397817,22.781054658101034,22.113300376589702,21.462972786949678],\"marker\":{\"color\":\"red\"}}];\n",
       "           var layout = {\"title\":\"Центральная предельная теорема\",\"xaxis\":{\"title\":\"Значение\",\"_isSubplotObj\":true},\"yaxis\":{\"title\":\"Количество\",\"_isSubplotObj\":true}};\n",
       "           Plotly.newPlot('f590a374-6451-4f8c-81f9-b53e72050ae9', data, layout);\n",
       "        \n",
       "});\n",
       "};\n",
       "// ensure `require` is available globally\r\n",
       "if ((typeof(require) !==  typeof(Function)) || (typeof(require.config) !== typeof(Function))) {\r\n",
       "    let require_script = document.createElement('script');\r\n",
       "    require_script.setAttribute('src', 'https://cdnjs.cloudflare.com/ajax/libs/require.js/2.3.6/require.min.js');\r\n",
       "    require_script.setAttribute('type', 'text/javascript');\r\n",
       "    \r\n",
       "    \r\n",
       "    require_script.onload = function() {\r\n",
       "        renderPlotly();\r\n",
       "    };\r\n",
       "\r\n",
       "    document.getElementsByTagName('head')[0].appendChild(require_script);\r\n",
       "}\r\n",
       "else {\r\n",
       "    renderPlotly();\r\n",
       "}\r\n",
       "\n",
       "</script>\n"
      ]
     },
     "metadata": {},
     "output_type": "display_data"
    }
   ],
   "source": [
    "var scatter = new Scatter\n",
    "{   \n",
    "    x = normals,\n",
    "    y = normalNums,\n",
    "    marker = new Marker { color = \"red\" }\n",
    "};\n",
    "\n",
    "var bar = new Bar\n",
    "{   \n",
    "    x = groups.Select(x => x.X),\n",
    "    y = groups.Select(x => x.Count),\n",
    "    marker = new Marker { color = \"green\" }\n",
    "};\n",
    "\n",
    "var layout = new Layout.Layout \n",
    "{\n",
    "    xaxis = new Xaxis \n",
    "    {\n",
    "        title = \"Значение\",\n",
    "    },\n",
    "    yaxis = new Yaxis\n",
    "    {\n",
    "        title = \"Количество\"\n",
    "    },\n",
    "    title = $\"Центральная предельная теорема\"\n",
    "};\n",
    "\n",
    "Chart.Plot(new List<Trace>() { bar, scatter }, layout)"
   ]
  },
  {
   "attachments": {},
   "cell_type": "markdown",
   "metadata": {},
   "source": [
    "#### Бокс-Мюллер"
   ]
  },
  {
   "cell_type": "code",
   "execution_count": 65,
   "metadata": {
    "dotnet_interactive": {
     "language": "csharp"
    },
    "polyglot_notebook": {
     "kernelName": "csharp"
    },
    "vscode": {
     "languageId": "polyglot-notebook"
    }
   },
   "outputs": [],
   "source": [
    "class BMT\n",
    "{\n",
    "    private LinearCongruentialGenerator _lcg;\n",
    "    public int Mean => 6;\n",
    "    public int Variance => 1;\n",
    "\n",
    "    public int LcgPeriod { get; init;}\n",
    "    private int _max;\n",
    "\n",
    "    public BMT()\n",
    "    {\n",
    "        _lcg = new LinearCongruentialGenerator(211, 1663, 7875, 3, true);\n",
    "        LcgPeriod = _lcg.Period;\n",
    "        _max = _lcg.NextMany(LcgPeriod).Max();\n",
    "    }\n",
    "\n",
    "    public (double, double, double, double) Next()\n",
    "    {\n",
    "        var x = _lcg.Next() / (_max * 1.0);\n",
    "        var y = _lcg.Next() / (_max * 1.0);\n",
    "        var s = x * x + y * y;\n",
    "\n",
    "        if (s == 0 || s > 1) \n",
    "        {\n",
    "            return Next();\n",
    "        }\n",
    "\n",
    "        var z1 = x * Math.Sqrt(-2 * Math.Log(s) / s);\n",
    "        var z2 = y * Math.Sqrt(-2 * Math.Log(s) / s);\n",
    "\n",
    "        return (z1, z2, x, y);\n",
    "    }\n",
    "\n",
    "    public IEnumerable<(double, double, double, double)> NextMany(int count) {\n",
    "        var nums = new List<(double, double, double, double)>();\n",
    "        for (var i = 0; i < count; i++) {\n",
    "            nums.Add(Next());\n",
    "        }\n",
    "        return nums;\n",
    "    }\n",
    "}"
   ]
  },
  {
   "cell_type": "code",
   "execution_count": 66,
   "metadata": {
    "dotnet_interactive": {
     "language": "csharp"
    },
    "polyglot_notebook": {
     "kernelName": "csharp"
    },
    "vscode": {
     "languageId": "polyglot-notebook"
    }
   },
   "outputs": [
    {
     "data": {
      "text/html": [
       "<div class=\"dni-plaintext\"><pre>7875</pre></div><style>\r\n",
       ".dni-code-hint {\r\n",
       "    font-style: italic;\r\n",
       "    overflow: hidden;\r\n",
       "    white-space: nowrap;\r\n",
       "}\r\n",
       ".dni-treeview {\r\n",
       "    white-space: nowrap;\r\n",
       "}\r\n",
       ".dni-treeview td {\r\n",
       "    vertical-align: top;\r\n",
       "    text-align: start;\r\n",
       "}\r\n",
       "details.dni-treeview {\r\n",
       "    padding-left: 1em;\r\n",
       "}\r\n",
       "table td {\r\n",
       "    text-align: start;\r\n",
       "}\r\n",
       "table tr { \r\n",
       "    vertical-align: top; \r\n",
       "    margin: 0em 0px;\r\n",
       "}\r\n",
       "table tr td pre \r\n",
       "{ \r\n",
       "    vertical-align: top !important; \r\n",
       "    margin: 0em 0px !important;\r\n",
       "} \r\n",
       "table th {\r\n",
       "    text-align: start;\r\n",
       "}\r\n",
       "</style>"
      ]
     },
     "metadata": {},
     "output_type": "display_data"
    }
   ],
   "source": [
    "var bmt = new BMT();\n",
    "display(bmt.LcgPeriod)"
   ]
  },
  {
   "cell_type": "code",
   "execution_count": 67,
   "metadata": {
    "dotnet_interactive": {
     "language": "csharp"
    },
    "polyglot_notebook": {
     "kernelName": "csharp"
    },
    "vscode": {
     "languageId": "polyglot-notebook"
    }
   },
   "outputs": [],
   "source": [
    "var count = Convert.ToInt32(500);\n",
    "var dNums = bmt.NextMany(count);\n"
   ]
  },
  {
   "cell_type": "code",
   "execution_count": 68,
   "metadata": {
    "dotnet_interactive": {
     "language": "csharp"
    },
    "polyglot_notebook": {
     "kernelName": "csharp"
    },
    "vscode": {
     "languageId": "polyglot-notebook"
    }
   },
   "outputs": [
    {
     "data": {
      "text/html": [
       "<!DOCTYPE html>\n",
       "<div style=\"width: 700px; height: 700px;\" id=\"22641ee5-212a-4e80-a847-d535d54abf71\"></div><script type=\"text/javascript\">\n",
       "\n",
       "var renderPlotly = function() {\n",
       "    var xplotRequire = require.config({context:'xplot-3.0.1',paths:{plotly:'https://cdn.plot.ly/plotly-1.49.2.min'}}) || require;\n",
       "    xplotRequire(['plotly'], function(Plotly) { \n",
       "\n",
       "            var data = [{\"type\":\"scatter\",\"x\":[0.7294894589789179,0.24511049022098044,0.9475488950977902,0.23647447294894589,0.5121920243840488,0.174498348996698,0.6235712471424942,0.2592075184150368,0.48158496316992633,0.28625857251714504,0.6686563373126746,0.23761747523495047,0.3933197866395733,0.5356870713741427,0.06464312928625857,0.38036576073152145,0.8827787655575311,0.047371094742189486,0.5097790195580392,0.7588265176530353,0.19443738887477774,0.21678943357886715,0.22580645161290322,0.6215392430784862,0.1728473456946914,0.12852425704851408,0.07086614173228346,0.3999237998475997,0.7070104140208281,0.5826771653543307,0.8450596901193802,0.12966725933451867,0.9521209042418085,0.9568199136398273,0.1080772161544323,0.8638557277114555,0.6061722123444246,0.7352044704089408,0.6508763017526035,0.753238506477013,0.44221488442976886,0.11785623571247142,0.18021336042672084,0.02921005842011684,0.06489712979425959,0.6873253746507493,0.29629159258318516,0.2919735839471679,0.07429514859029718,0.04330708661417323,0.5990601981203962,0.14135128270256542,0.07035814071628144,0.7861315722631446,0.6884683769367539,0.1774193548387097,0.6531623063246127,0.16446532893065785,0.000127000254000508,0.4225298450596901,0.627254254508509,0.20955041910083821,0.33426466852933706,0.4056388112776226,0.18834137668275336,0.2997205994411989,0.15773431546863093,0.3667767335534671,0.9138938277876556,0.06946913893827787,0.21183642367284736,0.7409194818389637,0.056515113030226063,0.5589281178562358,0.1859283718567437,0.2976885953771908,0.48006096012192023,0.8491236982473965,0.8048006096012192,0.0760731521463043,0.1917703835407671,0.4941579883159766,0.38315976631953264,0.2588265176530353,0.5212090424180849,0.570231140462281,0.8059436118872237,0.628270256540513,0.43726187452374904,0.6329692659385319,0.6153162306324612,0.54000508001016,0.2823215646431293,0.3270256540513081,0.42938785877571756,0.11836423672847346,0.7054864109728219,0.7411734823469647,0.3634747269494539,0.7505715011430023,0.7195834391668783,0.27520955041910083,0.4622809245618491,0.3646177292354585,0.8536957073914148,0.32931165862331724,0.19164338328676658,0.09867919735839471,0.507747015494031,0.3034036068072136,0.8858267716535433,0.6548133096266192,0.010414020828041656,0.3528067056134112,0.08178816357632715,0.5975361950723902,0.29984759969519936,0.5889001778003556,0.5269240538481077,0.975996951993904,0.6116332232664465,0.834010668021336,0.042926085852171704,0.02095504191008382,0.5900431800863601,0.745745491490983,0.41706883413766827,0.23507747015494032,0.3241046482092964,0.3997967995935992,0.8622047244094488,0.1111252222504445,0.5468630937261875,0.5692151384302768,0.5782321564643129,0.15621031242062483,0.5252730505461011,0.4809499618999238,0.4232918465836932,0.8680467360934722,0.17030734061468122,0.05930911861823723,0.19735839471678943,0.24638049276098553,0.3044196088392177,0.11341122682245365,0.30911861823723646,0.29146558293116587,0.460502921005842,0.2161544323088646,0.08750317500635,0.0031750063500127,0.10553721107442215,0.4702819405638811,0.5326390652781305,0.38163576327152654,0.41732283464566927,0.03962407924815849,0.6487172974345948,0.6443992887985776,0.4267208534417069,0.39573279146558293,0.4937769875539751,0.4227838455676911,0.13843027686055373,0.04076708153416307,0.005461010922021844,0.8679197358394717,0.5168910337820676,0.3525527051054102,0.18389636779273558,0.5619761239522479,0.33096266192532386,0.6866903733807468,0.028956057912115824,0.7580645161290323,0.27368554737109474,0.9761239522479045,0.2650495300990602,0.5407670815341631,0.2030734061468123,0.28778257556515113,0.5101600203200406,0.3148336296672593,0.6972313944627889,0.2661925323850648,0.42189484378968756,0.5642621285242571,0.09321818643637288,0.4089408178816358,0.000254000508001016,0.07594615189230379,0.5383540767081534,0.7874015748031497,0.22301244602489204,0.2543815087630175,0.6501143002286005,0.2014224028448057,0.1570993141986284,0.09944119888239776,0.428498856997714,0.5441960883921768,0.7355854711709423,0.611252222504445,0.15824231648463297,0.9806959613919228,0.9853949707899415,0.1366522733045466,0.634747269494539,0.7637795275590551,0.6794513589027178,0.7818135636271273,0.4707899415798832,0.14643129286258572,0.20878841757683517,0.05778511557023114,0.09347218694437388,0.7159004318008636,0.3248666497332995,0.3205486410972822,0.10287020574041147,0.07188214376428753,0.6276352552705106,0.16992633985267971,0.09893319786639573,0.8147066294132588,0.7170434340868682,0.20599441198882398,0.6817373634747269,0.19304038608077217,0.028702057404114807,0.4511049022098044,0.6558293116586233,0.2381254762509525,0.007112014224028448,0.3628397256794514,0.43421386842773685,0.21691643383286766,0.32829565659131316,0.18630937261874525,0.3953517907035814,0.9424688849377699,0.09804419608839218,0.24041148082296165,0.7694945389890779,0.08509017018034036,0.58750317500635,0.214503429006858,0.4635509271018542,0.32626365252730505,0.5086360172720346,0.8776987553975107,0.8333756667513335,0.10464820929641859,0.22034544069088138,0.5227330454660909,0.41173482346964696,0.2874015748031496,0.5497840995681992,0.5988061976123952,0.8345186690373381,0.46583693167386336,0.6438912877825755,0.5685801371602743,0.31089662179324357,0.4399288798577597,0.3556007112014224,0.4579629159258318,0.14693929387858776,0.7340614681229363,0.769748539497079,0.001016002032004064,0.7791465582931166,0.7481584963169926,0.30378460756921516,0.49085598171196343,0.39319278638557276,0.8822707645415291,0.35788671577343156,0.22021844043688088,0.12725425450850902,0.5363220726441453,0.3319786639573279,0.9144018288036576,0.6833883667767335,0.038989077978155956,0.38138176276352553,0.11036322072644145,0.6261112522225044,0.3284226568453137,0.6174752349504699,0.555499110998222,0.00444500889001778,0.6402082804165609,0.8625857251714504,0.07150114300228601,0.04953009906019812,0.6186182372364745,0.7743205486410972,0.4456438912877826,0.2636525273050546,0.35267970535941073,0.4283718567437135,0.8907797815595632,0.1397002794005588,0.5754381508763018,0.5977901955803911,0.6068072136144272,0.002413004826009652,0.18478536957073916,0.5538481076962154,0.5095250190500381,0.45186690373380745,0.8966217932435865,0.19888239776479552,0.08788417576835153,0.22593345186690372,0.27495554991109983,0.332994665989332,0.14198628397256793,0.3376936753873508,0.32004064008128014,0.4890779781559563,0.2447294894589789,0.11607823215646432,0.031750063500127,0.13411226822453645,0.49885699771399544,0.5612141224282449,0.41021082042164086,0.4458978917957836,0.0681991363982728,0.6772923545847092,0.6729743459486919,0.4552959105918212,0.42430784861569726,0.5223520447040894,0.45135890271780543,0.16700533401066803,0.06934213868427737,0.5584201168402336,0.03403606807213615,0.896494792989586,0.5454660909321819,0.3811277622555245,0.21247142494284987,0.008128016256032511,0.5905511811023622,0.35953771907543813,0.7152654305308611,0.057531115062230125,0.7866395732791466,0.004572009144018288,0.2936245872491745,0.5693421386842774,0.2316484632969266,0.34340868681737363,0.7258064516129032,0.29476758953517906,0.4504699009398019,0.5928371856743714,0.12179324358648717,0.43751587503175005,0.028829057658115317,0.10452120904241809,0.5669291338582677,0.8159766319532639,0.25158750317500633,0.27393954787909575,0.28295656591313184,0.6786893573787147,0.22999745999492,0.1856743713487427,0.12801625603251207,0.4570739141478283,0.5727711455422911,0.7641605283210566,0.6398272796545593,0.18681737363474726,0.009144018288036576,0.013843027686055371,0.1652273304546609,0.6633223266446533,0.7923545847091694,0.7080264160528321,0.8103886207772416,0.49936499872999746,0.1750063500127,0.23736347472694946,0.08636017272034544,0.1220472440944882,0.7444754889509779,0.35344170688341375,0.3491236982473965,0.13144526289052577,0.10045720091440183,0.6562103124206249,0.198501397002794,0.12750825501651003,0.8432816865633731,0.7456184912369824,0.23456946913893828,0.7103124206248412,0.5726441452882906,0.22161544323088647,0.05727711455422911,0.4796799593599187,0.6844043688087376,0.2667005334010668,0.035687071374142745,0.39141478282956566,0.7338074676149352,0.4627889255778512,0.24549149098298195,0.3568707137414275,0.21488442976885955,0.4239268478536957,0.019558039116078233,0.40195580391160785,0.9710439420878841,0.12661925323850648,0.2689865379730759,0.7980695961391923,0.11366522733045466,0.6160782321564643,0.2430784861569723,0.4921259842519685,0.3548387096774194,0.5372110744221489,0.9062738125476251,0.8619507239014478,0.1332232664465329,0.24892049784099568,0.5513081026162052,0.44030988061976123,0.3159766319532639,0.5783591567183134,0.6273812547625095,0.8630937261874524,0.49441198882397763,0.6724663449326899,0.5971551943103887,0.3394716789433579,0.468503937007874,0.3841757683515367,0.48653797307594615,0.17551435102870205,0.7626365252730506,0.029591059182118365,0.025273050546101093,0.7767335534671069,0.33235966471932943,0.5194310388620778,0.4217678435356871,0.9108458216916434,0.38646177292354583,0.24879349758699518,0.15582931165862332,0.5648971297942595,0.3605537211074422,0.9429768859537719,0.7119634239268479,0.06756413512827025,0.4099568199136398,0.13893827787655574,0.6546863093726187,0.356997713995428,0.6460502921005842,0.5840741681483363,0.03302006604013208,0.6687833375666752,0.8911607823215646,0.1000762001524003,0.6958343916687834,0.07810515621031242,0.6471932943865888,0.47421894843789686,0.2922275844551689,0.381254762509525,0.4569469138938278,0.9193548387096774,0.1682753365506731,0.604013208026416,0.6263652527305055,0.6353822707645416,0.030988061976123953,0.21336042672085345,0.5824231648463297,0.5381000762001524,0.48044196088392177,0.22745745491490982,0.11645923291846584,0.25450850901701805,0.3035306070612141,0.3615697231394463,0.17056134112268226,0.36626873253746506,0.34861569723139446,0.5176530353060707,0.2733045466090932],\"y\":[0.11391922783845568,0.9230378460756922,0.11861823723647447,0.10096520193040386,0.27000254000508,0.025654051308102617,0.7680975361950724,0.8971297942595885,0.8128016256032512,0.6041402082804166,0.2797815595631191,0.34213868427736854,0.19113538227076454,0.2268224536449073,0.849250698501397,0.4582169164338329,0.4538989077978156,0.20523241046482094,0.760985521971044,0.3032766065532131,0.23228346456692914,0.9480568961137922,0.8503937007874016,0.33934467868935736,0.6774193548387096,0.3263906527813056,0.1620523241046482,0.5844551689103378,0.3714757429514859,0.14046228092456184,0.49618999237998473,0.5675641351282703,0.08318516637033274,0.0745491490982982,0.012573025146050291,0.46164592329184656,0.09728219456438914,0.31965963931927865,0.5287020574041148,0.12433324866649734,0.5067310134620269,0.07569215138430277,0.2313944627889256,0.37376174752349506,0.9028448056896113,0.21844043688087375,0.7208534417068834,0.8098806197612395,0.8855727711455423,0.34785369570739144,0.5969011938023876,0.032512065024130045,0.05486410972821946,0.06388112776225552,0.45961391922783845,0.641986283972568,0.010922021844043688,0.9090678181356363,0.23799847599695198,0.35369570739141476,0.5450850901701804,0.420751841503683,0.7321564643129286,0.7901955803911608,0.9462788925577851,0.44424688849377697,0.4889509779019558,0.5913131826263652,0.01828803657607315,0.8674117348234697,0.9030988061976124,0.5254000508001015,0.13436626873253746,0.13004826009652018,0.43713487426974856,0.015494030988061977,0.49123698247396497,0.3535687071374143,0.00254000508001016,0.26060452120904243,0.6696723393446787,0.4653289306578613,0.0476250952501905,0.8167386334772669,0.17233934467868936,0.5147320294640589,0.24371348742697485,0.7594615189230378,0.4617729235458471,0.7508255016510033,0.026416052832105665,0.1377952755905512,0.7735585471170943,0.2048514097028194,0.8006096012192024,0.18288036576073152,0.04991109982219964,0.578994157988316,0.8947167894335789,0.5617221234442469,0.02400304800609601,0.2730505461010922,0.7401574803149606,0.13576327152654305,0.31813563627127256,0.6871983743967488,0.6428752857505715,0.029845059690119382,0.33223266446532895,0.22123444246888493,0.09690119380238761,0.3592837185674371,0.40830581661163323,0.6440182880365761,0.4663449326898654,0.27533655067310137,0.4710439420878842,0.45339090678181354,0.37807975615951234,0.12039624079248158,0.24942849885699772,0.1651003302006604,0.26746253492506983,0.6322072644145288,0.6945643891287783,0.5435610871221742,0.2015494030988062,0.8063246126492253,0.5886461772923546,0.5576581153162307,0.11328422656845313,0.6557023114046228,0.5847091694183388,0.30035560071120143,0.20269240538481076,0.16738633477266954,0.02971805943611887,0.6788163576327153,0.5144780289560579,0.3458216916433833,0.14147828295656592,0.7239014478028956,0.8486156972313945,0.19088138176276354,0.43561087122174247,0.1379222758445517,0.4269748539497079,0.7026924053848108,0.36499872999745997,0.8140716281432563,0.6720853441706883,0.8811277622555245,0.47675895351790704,0.42811785623571247,0.5838201676403353,0.7261874523749048,0.2551435102870206,0.5708661417322834,0.0731521463042926,0.1621793243586487,0.23787147574295148,0.7002794005588011,0.38493776987553974,0.40728981457962915,0.41630683261366525,0.8120396240792481,0.3633477266954534,0.3190246380492761,0.26136652273304545,0.5904241808483617,0.008382016764033528,0.7731775463550927,0.03543307086614173,0.08445516891033782,0.32016764033528067,0.14249428498856997,0.9516129032258065,0.14719329438658876,0.12954025908051817,0.29857759715519433,0.054229108458216914,0.9257048514097028,0.8413766827533655,0.6327152654305309,0.30835661671323344,0.37071374142748287,0.21971043942087884,0.2553975107950216,0.8778257556515113,0.48679197358394716,0.2647955295910592,0.23380746761493523,0.7895605791211583,0.3318516637033274,0.26085852171704343,0.8789687579375158,0.3679197358394717,0.705994411988824,0.35496570993141985,0.1906273812547625,0.6130302260604521,0.021971043942087883,0.4000508001016002,0.16903733807467614,0.5961391922783845,0.11176022352044704,0.1031242062484125,0.041148082296164595,0.12585725171450343,0.3482346964693929,0.5572771145542291,0.15290830581661163,0.5353060706121412,0.10426720853441707,0.2599695199390399,0.4023368046736093,0.9314198628397257,0.24701549403098808,0.7494284988569977,0.8384556769113538,0.9141478282956566,0.3764287528575057,0.6254762509525019,0.06108712217424435,0.08343916687833376,0.09245618491236983,0.4881889763779528,0.6705613411226823,0.03949707899415799,0.9376428752857505,0.2665735331470663,0.3822707645415291,0.5736601473202947,0.4493268986537973,0.7117094234188468,0.7607315214630429,0.8187706375412751,0.9748539497078994,0.4728219456438913,0.5175260350520701,0.6198882397764796,0.04686309372618745,0.895986791973584,0.9316738633477267,0.5539751079502159,0.16294132588265176,0.1586233172466345,0.46570993141986283,0.008001016002032004,0.044069088138176275,0.5198120396240793,0.38214376428752855,0.03111506223012446,0.2891795783591567,0.698247396494793,0.4939039878079756,0.0762001524003048,0.8453136906273813,0.20091440182880366,0.5433070866141733,0.2722885445770892,0.4903479806959614,0.05499110998221996,0.16637033274066548,0.8021336042672086,0.024384048768097535,0.2334264668529337,0.8291846583693168,0.21145542291084582,0.07848615697231394,0.6075692151384303,0.4255778511557023,0.5902971805943612,0.052578105156210315,0.3016256032512065,0.768732537465075,0.16433832867665735,0.34671069342138683,0.7157734315468631,0.6714503429006858,0.05842011684023368,0.3608077216154432,0.24980949961899923,0.1254762509525019,0.38785877571755145,0.4368808737617475,0.6725933451866903,0.4949199898399797,0.30391160782321563,0.49961899923799846,0.48196596393192787,0.4066548133096266,0.1489712979425959,0.278003556007112,0.1936753873507747,0.29603759207518415,0.6607823215646431,0.7231394462788926,0.5721361442722885,0.2301244602489205,0.8348996697993396,0.6172212344424689,0.586233172466345,0.14185928371856743,0.6842773685547371,0.6132842265684532,0.3289306578613157,0.23126746253492508,0.7203454406908814,0.19596139192278383,0.05829311658623317,0.7073914147828295,0.5430530861061722,0.3743967487934976,0.17005334010668022,0.7524765049530099,0.8771907543815087,0.21945643891287783,0.46418592837185674,0.166497332994666,0.4555499110998222,0.731267462534925,0.3935737871475743,0.8426466852933706,0.7006604013208027,0.9097028194056388,0.5053340106680213,0.4566929133858268,0.6123952247904496,0.754762509525019,0.28371856743713486,0.5994411988823978,0.1017272034544069,0.190754381508763,0.2664465328930658,0.7288544577089154,0.41351282702565406,0.4358648717297435,0.4448818897637795,0.8406146812293624,0.02286004572009144,0.39192278384556767,0.3475996951993904,0.2899415798831598,0.618999237998476,0.03695707391414783,0.9260858521717044,0.801752603505207,0.06400812801625604,0.11303022606045213,0.348742697485395,0.17106934213868427,0.17576835153670306,0.15811531623063246,0.3271526543053086,0.08280416560833122,0.6612903225806451,0.3369316738633477,0.39928879857759714,0.24828549657099314,0.28397256794513587,0.9064008128016257,0.5153670307340614,0.2933705867411735,0.26238252476504953,0.8181356362712725,0.3604267208534417,0.28943357886715776,0.00508001016002032,0.9075438150876302,0.39649479298958595,0.7345694691389383,0.3835407670815342,0.2192024384048768,0.6416052832105664,0.050546101092202186,0.4286258572517145,0.19761239522479046,0.6247142494284988,0.14033528067056134,0.1316992633985268,0.06972313944627889,0.15443230886461773,0.37680975361950725,0.5858521717043434,0.18148336296672593,0.5638811277622555,0.13284226568453136,0.28854457708915415,0.43091186182372365,0.95999491998984,0.2755905511811024,0.778003556007112,0.8670307340614681,0.9427228854457709,0.40500381000762004,0.6540513081026162,0.08966217932435865,0.11201422402844806,0.12103124206248413,0.5167640335280671,0.6991363982727965,0.0680721361442723,0.023749047498094995,0.9662179324358648,0.2951485902971806,0.4108458216916434,0.6022352044704089,0.4779019558039116,0.7402844805689611,0.7893065786131572,0.02489204978409957,0.8473456946913894,0.003302006604013208,0.5013970027940056,0.5461010922021844,0.6484632969265939,0.3374396748793498,0.013081026162052324,0.07543815087630175,0.9245618491236982,0.9602489204978409,0.5825501651003302,0.19151638303276605,0.1871983743967488,0.49428498856997716,0.0365760731521463,0.07264414528829058,0.5483870967741935,0.4107188214376429,0.059690119380238764,0.317754635509271,0.7268224536449073,0.5224790449580899,0.10477520955041911,0.8738887477774956,0.22948945897891795,0.5718821437642875,0.30086360172720344,0.5189230378460757,0.08356616713233427,0.19494538989077978,0.8307086614173228,0.05295910591821184,0.262001524003048,0.8577597155194311,0.24003048006096012,0.10706121412242825,0.4541529083058166,0.5431800863601727,0.08115316230632462,0.3302006604013208,0.7973075946151892,0.19291338582677164,0.37528575057150115,0.7443484886969773,0.7000254000508,0.08699517399034798,0.38938277876555755,0.27838455676911356,0.15405130810261622,0.4164338328676657,0.4654559309118618,0.7011684023368047,0.523495046990094,0.33248666497332996,0.5281940563881128,0.5105410210820421,0.43522987045974093,0.1775463550927102,0.3065786131572263,0.222250444500889,0.3246126492252985,0.013589027178054356,0.6893573787147574,0.7517145034290068,0.2586995173990348,0.8634747269494539,0.6457962915925832,0.6148082296164592,0.17043434086868173,0.7128524257048514,0.6418592837185675,0.35750571501143,0.25984251968503935,0.7489204978409957,0.22453644907289816,0.08686817373634748,0.7359664719329438,0.5716281432562865,0.19862839725679451,0.7810515621031242,0.905765811531623,0.24803149606299213,0.49276098552197106,0.19507239014478028,0.4841249682499365,0.7598425196850394,0.4221488442976886,0.8712217424434849],\"mode\":\"markers\",\"marker\":{\"size\":6,\"color\":\"green\",\"line\":{\"color\":\"white\",\"width\":0.5}}},{\"type\":\"scatter\",\"x\":[1.088377277872458,0.1101095570781246,0.42610151915279426,2.143614684287795,1.3078540453051872,2.606483239145541,0.13043270255028752,0.14526053778983838,0.24302491714652694,0.5434350690093873,1.0466501507562624,1.0676211301158611,1.6359923482162058,1.355562670240934,0.06081574586598535,0.9196827497210773,0.15293473062921875,0.5613872440488281,0.3298036124525301,0.8344605463264805,1.4029196770999364,0.07441040861757181,0.1836280226788759,1.0312324654103402,0.29582650384227854,0.7500152045753069,1.0547061741594252,0.6634382970018019,0.8394814978475162,1.3910665868476748,0.24535845597650138,0.3276277461149788,0.423878594495163,0.40430646023339506,2.958762498408836,0.2540448488429982,1.3793131471250388,0.8623019206308495,0.6514125978144539,1.0252274189488608,0.8282298508387814,2.3593336698228593,1.3610236470715802,0.1543477304066288,0.045259907184351106,1.0896833861217676,0.37961140309319424,0.2625035567342056,0.05743935488654444,0.2529831975029654,0.5800461726270364,2.708298120092086,2.4517982487943595,0.9711507216293194,0.7231408592203913,0.33962089967359993,1.3048690536726337,0.1002226074508826,0.0012786761479403436,1.1839284072973688,0.6495315836532196,0.7746929166870596,0.3870188269246972,0.3144482229964466,0.07386173148199406,0.8834656350076695,0.5011031963575968,0.6348564552822447,0.5993487541144034,0.05953680628015909,0.12520121846266508,0.5059628181178389,1.0760485134198094,1.4516896411959141,0.6753777595642187,2.1973481364554512,0.8567220867802946,0.5338587304555351,0.9319948042958763,0.639938656691669,0.33107333497786995,0.906358250645447,1.9361394948147352,0.23755346538643865,1.4705355721870657,0.762405089229806,0.7939307777197001,0.15326817603627998,0.9251733515986149,0.1735755136293846,1.3911241243307255,1.4817493220859461,0.30219520625099094,1.6539247596257234,0.2928449413873781,1.3415230745899362,1.1741319016293532,0.3903045825714219,0.1405689053085411,0.4068149232650075,1.1457078530423652,1.3820521818809461,0.3910141924502659,1.8210425214428874,0.5720169299667872,0.45057525895113043,0.3610147364908573,2.885617795497862,1.1829007073767352,1.5993611647719619,0.6750495699485156,0.9471953296024296,0.0482540220403346,0.5339748544554525,0.29873990094103875,1.1753222426176342,0.8198331138630626,0.863314526892564,1.0693334166582238,0.25685515261928643,1.1925904861429666,0.790365299912225,0.36219907265084567,0.04483819467792642,0.3945017761706346,0.45805923476478894,1.5797077580053027,0.23382459149598447,0.6082075470900681,0.7151626966168754,0.7411716499844836,0.21343144184180843,0.6442765672745314,1.1742290201937668,1.3209544204798436,1.6568194421128486,1.600237469064238,0.4959795402290621,0.8097887651992758,0.4839817129149024,1.889031573307881,0.09234809732739645,0.16818190286639176,1.7070746711728233,0.910886087926013,1.6673028130904153,0.938507504718952,0.4007072013945714,1.1428819220184925,0.21264281495510345,0.16104039677607423,0.0025636419008947934,0.36597807315408876,0.9949921733696288,0.6539538986871699,0.4140152354079873,1.4429672238465154,0.10346778145520802,1.2978228010567043,1.2399712349924012,1.4785230700442775,0.45911170775057847,1.0793528110140918,1.0512066302124972,0.5728104776041678,0.04561901750600284,0.030240036708728022,0.525250956661883,1.3189230254107736,0.6274285781212329,2.5991048970191577,0.24991335754452254,2.085747289857468,1.2047843802930693,0.1919065984474143,1.0015284930451132,0.054894453615507044,0.2248229462590849,1.9853145545838073,1.2151960772948591,2.413232023488211,0.1046575617571373,0.1318589186024876,0.524938719550589,0.9527452557769862,1.033162507739031,1.529052116991261,1.2611064684484166,0.07457978281854016,0.8657758625831408,0.002211480079106067,0.7318817111592242,0.24002430635700256,0.7308833790300164,1.3440104585542123,0.1656742838414573,0.9400591106429742,0.3050264726641368,0.7873877817756094,1.146823945679189,0.6174933211737993,1.5577451197390821,0.7402951838409325,1.3008404231705022,0.35669684851318983,0.2269268734594506,0.19147872229421717,2.6721278129279367,1.2942693046028824,0.761362852909866,0.5559455189416322,0.9359331252142145,0.7683962573066196,2.1342497905776168,1.3124816833603659,0.26977749900617637,0.051318903425601525,0.9967939473580765,0.357817152943323,0.2346946150665289,0.06461579559573077,0.36738975720157413,0.4926645684739743,2.462304019752338,2.1861462652458443,0.8854484151964545,0.6233952252312785,0.3497067356809199,1.2331411704671262,0.08424015573853598,0.24564475015510692,1.106035035319424,0.5587058865984185,0.7701462439171783,0.011653608702261823,0.35603029444498846,0.25838314150578606,0.0156939152916053,0.847714171677146,0.5237631095696125,0.5964340503607559,0.48114272788652596,0.07011770550131521,0.09810362349512401,0.37448388105345265,1.2048804807436024,1.3608005163088346,0.6838452587331368,1.7532383191085188,2.0891174174349825,0.7893580036302578,0.3831452335165087,0.851637218222314,0.7390270748970996,0.3360392279843997,0.8346899795658053,1.8348922220522068,0.21675271269033133,1.3747108653294946,0.6828160846592027,0.6863776510740885,0.8614102341300626,1.3167084153539022,1.3888823352802,0.28040067087528775,1.8078696784176147,1.5458120917300386,0.2251009863382555,1.3293701567140985,1.0955342029434478,0.21950830192561685,0.004413170158602728,0.24044588365971598,1.0700715864957768,1.3072623210624699,0.32652104150875505,1.7042413535077285,0.4303606931049671,0.4222035744311098,0.3672779097887077,2.5485162744905767,1.0961643900717462,1.4977330649995455,0.5609858194005832,0.8540269629085744,0.16139300253346686,0.5003259652135108,0.35871267061392964,1.083205172898881,0.7878813240365865,0.7791494819414294,0.9860397592287815,0.08229807766996486,1.1000740133532285,0.6850247381904178,0.511989203696873,0.0959013206437435,0.2894552697449869,0.31334845870437206,1.4761811129426892,0.2195696275832077,0.5796384776396195,0.6676171173615787,0.6343010495140193,0.23969536364328212,0.5695108789115256,1.0833808290383944,1.2279642755963665,0.0038370221017043817,1.5715100495979608,1.5217660174265837,0.4329827211901651,0.7540816772873423,0.31298367017862105,1.7600641348856396,0.1222430765474253,0.15689153168446937,1.597698830933414,0.8723136985426855,1.5997235222456945,0.897055467303826,0.38065925860175037,1.063169721773795,0.20167543503177854,0.1912183629801895,0.021391474608900528,0.4131391519880415,0.9225122779750499,0.5820440091562981,0.37228245031479684,1.3474744137331691,0.16071478537850403,1.2167955471231293,1.150353759665715,1.380426771127584,0.4153093873902606,0.9993462924324215,0.98219443645194,0.606293737971916,0.06783864440029226,1.5242481455137333,0.16713319039047547,0.3693672992692029,1.225684337270906,0.5921907448520606,2.4404880345169313,0.004862787263186241,0.07722495645912007,1.97624796141017,1.1223280317964333,0.33198076608653154,0.9101368394583683,0.06856550381743338,1.8453049982941572,1.1246491112487027,2.2302648620794554,0.49993259902849874,0.8564526255088216,0.9942232891559225,1.4281727680678047,1.1683386073968258,0.07960446802140568,0.8098904956437818,0.21617533773803999,0.8322295374998016,0.07763046253165994,0.6183800231764149,1.2845175369328867,2.2752853328090956,0.13394806274974788,0.8473668100925269,0.3057186984994247,0.8048831414305281,1.1809935110454208,0.5667795913092912,1.48204435378155,0.6342358429574655,1.2100930322770143,0.3747167696449596,0.18213178773954017,0.29727232574981755,2.415564021517339,1.207232110976416,0.6532348992942685,0.44789739416863833,0.84119442947272,0.7058922020331977,1.9610719129981515,1.2606879620779394,0.356354761321204,0.04568920738791619,0.9012001936768678,0.3279936424866857,0.19415844459655665,0.061358974623615774,0.4501365590670587,0.3914000591071837,2.25020196521611,2.0010472841604354,0.7925268815017237,0.5130245450952179,0.3510929705062067,1.1565604011797206,1.4908732921366334,0.04177745536161274,0.4176933535511588,1.0297159324011407,0.4566660909553588,0.7566998449235919,0.052708444716902655,0.31623302238948736,1.1109968510703578,0.17965895243707727,2.3699354461912336,0.8080263707182134,0.5346320563980904,0.5528822011770342,0.12052691905740574,1.907794752955123,0.32383150995858584,0.07135715064221786,0.028505161656425654,0.1769820540054034,1.250963358969197,1.2696711805526648,0.6815749349570415,1.6761698398798148,1.9745490419607339,0.7196476322350158,0.12899052180854997,0.7628040972939409,0.7982393460390763,0.3327116291591144,0.7612863472521749,1.7323448811576851,0.18420437135083334,1.280489720449995,0.5982043489022636,0.5662258830506757,0.7961563457905467,1.2381001308499704,1.2964029210192365,0.24893275471823464,1.7232254135176537,1.445850678293854,0.11657703297255523,1.3000718647293268,1.0122598226241035,0.11537504751106607,0.07255477294529224,0.9890597641128704,1.2354378028040343,0.24321034855118376,1.5942260762541114,0.22634649939800816,0.38652516325191255,0.36510968742493316,2.2924722127965373,1.0107273891973716,1.4037623714084457,0.42123706747199496,0.757647608138998,0.2495257118471477,0.46037209851996264,0.40175078751573623,0.9910411267336315,0.7514231140963434,0.6916469141326611,0.9027996474922882,0.4784136211134657,1.0072305125025198,0.5659671515241055,0.6122599497440759,1.2038517373644344,0.13614730618104953,0.11742972581387891,1.3778094807053562,0.19507110495916552,0.5454282202807564,0.615941322436108,0.5097281268897624,0.25639661686167975,0.48705559069916804,0.9930099493582688,1.1354341066298523,0.04439303343784592,1.4914651270320523,1.4394904135092137,0.3589043429881018,0.6954419247024689,1.648453298605003,0.1433228434720433,0.1335991276595002,1.498746409059588,0.8302139565733678,1.529838902593156,0.8525005896752713,0.3529828888328292,0.984578868460391,0.18051486850557089],\"y\":[0.16996420930563977,0.4146509123543055,0.05334121684609434,0.9152382782002131,0.6894365733495731,0.3831947702382819,0.16066333707212604,0.502753767245183,0.4101686365342227,1.1469035595730503,0.43794307352631456,1.537237479707178,0.795017269636871,0.5739769864984136,0.7989683548248411,1.1079183175270944,0.07863454571555573,2.4321763709997484,0.4923226820666568,0.33350490119290965,1.6759896077176901,0.325409314780418,0.6915485038570041,0.5630267976249343,1.1593964522371152,1.904682881184327,2.411837057755245,0.9695595563043164,0.4410783871392105,0.3353355808747882,0.1440660486174017,1.4340532785385312,0.03703354400351231,0.031500914807141345,0.3442038629171266,0.13576198552547758,0.22136054278185208,0.374920354850207,0.5291376867710385,0.16922907488634883,0.949062924999063,1.515261710360371,1.7475581994111482,1.9749798721161242,0.6296529944687906,0.3463147494695935,0.9235637908088171,0.7281362250082772,0.6846574728613238,2.0320263283302706,0.5779556945828007,0.6229329009376227,1.9118715586266486,0.07891580177375566,0.4827608872013643,1.2289074071940214,0.021819704183520607,0.5539717560875813,2.3962391012402042,0.9910551891563486,0.5644441297913786,1.5554894745358958,0.8477065111021578,0.6125538019674047,0.37110165965767883,1.3094757590071304,1.5533392157622767,1.0235081910644497,0.011993638214629527,0.7433937603171602,0.5337565134820211,0.3587878262861672,2.5583355667374343,0.3377710049044798,1.5878758527459298,0.11436709583940488,0.8766669395942275,0.222294751060157,0.002941438549142737,2.192243945795167,1.1561256260518598,0.8534815292636643,0.24065373236842083,0.7496105671737914,0.48623703008232166,0.6882021885631189,0.24008086392122668,0.18527262840043549,0.9770346518770153,0.2058945498749843,0.05972215022926542,0.37810395448336115,0.8280121463224408,1.0360313154471035,0.5460202633853983,2.072739514387884,0.08306639736099654,0.3049003755899782,0.3460195450379707,0.30445725983098615,0.03821722277179792,1.3712100558578837,0.626052393846195,0.6780544950966376,0.2131660829465638,0.940247869720234,1.2110381684007419,0.8727415469008979,0.7740040646567132,1.1662147965813134,0.0738441321678448,0.5197082209940406,1.8919107421911674,0.974725157287113,1.7033740935644321,0.5415725020180724,1.2879123334680642,0.6646609577326835,0.7672705667369324,0.031684929692008264,0.48634711685730614,0.15646031519504988,2.2567788372860385,1.3527547461013194,0.4643844627372365,0.33387151307787744,0.7633971412772276,0.8020271914683983,1.1046402745934425,0.997547458972268,0.09738181054443354,1.2593674676905795,0.6888642163799216,0.6196009890134446,0.463044861648546,1.7753561176461257,0.09053567885905021,0.7000292164046309,0.9842347098176616,0.19281378262871676,1.5692626194369723,1.1271609309767876,0.7231605372929407,1.3225429024601822,1.3034373306575822,2.027649333724738,1.296327950232176,0.966062285540812,0.9058584235745027,0.8008463242433685,1.2369024379375688,0.7114619003363231,1.6532872281834525,0.9057841254196648,0.7167921011599714,0.7878000386232517,0.8822036374642878,1.4906656334652566,0.1463480684042016,0.31207001716304617,0.8241886042240868,0.8124332338050994,0.841439910026675,1.0126823860292817,1.7226355464095982,0.9086853518173899,2.012017326131881,0.1930685401133524,0.6669148860676589,1.0507620532008686,0.1184674884000445,0.34383559790532275,0.22330141744828608,0.14817488679395063,2.121914625815489,0.1882584971011253,0.190869670970299,0.03390187284859216,0.9703022739221292,0.6709549031752499,0.6444340675606417,0.3366500298533865,0.21746709876561626,1.0549595404602803,0.42135983260956694,1.4388365267606062,0.7962854191435526,0.5708046608259657,0.7023098894301766,1.0305959258637198,2.3054679824680746,2.2531676091038992,0.3520243247514709,0.30803197893636014,1.572094237967171,0.5724571734731533,0.5320084476524118,1.0691312493946634,1.779101738126781,2.1984453926749206,0.8834144224380346,0.0628914599101193,0.4026121942505072,0.35973791881153927,1.3437680633394167,0.025860612360051348,0.02003875789443283,0.8046184120712375,0.25662682690305255,0.3471328471364903,0.4559792405824079,0.18305124801135708,0.8736957713912601,1.5197043174884852,1.634215332018655,1.8783628941792674,0.5113761382110892,0.3439354670234981,0.8254413680682364,0.6138882126264753,0.5742030823432965,1.9239279864760879,0.49096985020929246,0.8851780519438525,1.8437716255025929,0.10048424727404816,0.4244299053824008,1.1383795094915272,0.07144316393727204,0.409174388037902,2.281452790157387,0.937265049637237,0.4887053620768893,1.4532146191887878,1.1661932708477722,0.7464548350456705,0.4872173481391643,0.07053073406227302,1.2209051687249575,1.4548975265822566,0.9351733375556858,0.023924224038556537,0.640777736155154,0.38018393130492856,0.2695987273733554,2.3072562041702116,0.3674102561326707,1.4847013403045664,0.030261373727078544,0.28218129383026036,0.8067021994653296,0.16681869594142304,0.03179687876630097,2.042190108665893,1.0648666717338497,0.7886562999347466,0.33958523541990254,0.6375192468700157,0.5023775904253316,0.6195306914468864,0.22395277490531823,0.9067352546281819,0.11245261219886384,0.40639621604133613,0.7234520576994762,0.10020524776448672,1.014715223071361,0.40756637265736834,1.9130521269913345,0.11713497187180809,0.1732598113202691,1.848566650184718,0.182166661328502,0.07520109265137527,1.2979715771418754,0.5113665884223788,0.7123024261753879,0.1691211590868807,0.8444071488622196,1.1198375484734127,1.1699775312032588,0.7374385584167252,1.127024077602948,0.07697972077330226,0.48470513746938976,1.8084427645443844,0.8823597441794049,1.608634381337726,0.5257829571494974,1.1985789361020616,0.6081596635063194,0.7218334039896109,2.7581612887676794,0.4776953015731436,0.15380782181101105,2.1197989943470885,1.2794219777164038,0.33836138491643514,0.23152940896558902,0.7622799021522236,0.6953038206801577,1.0144195179433024,0.9136438226329817,0.10101429602326198,1.1740714721000036,0.606967122989132,0.5961241442977356,0.4680039652283347,1.1454520716245922,1.666556705518662,0.16016753084127536,0.6011250640651096,0.9062544272289701,0.13069063168365083,1.5049335099692667,1.0466621799761489,0.6091342379677516,1.2752071962369234,1.2159826728350556,1.8758833073918655,1.2101308616844015,0.8697761948527296,0.8555603655614101,0.6944040017830051,1.1542141231528504,0.6129085304942179,1.55670519484888,0.8445402626268532,0.6351247368526067,0.684976657034315,0.8573790487837938,1.4126141284665532,0.18275890366503406,0.3260674366895459,0.8078480797282208,0.7133973583456167,0.7911187766010126,0.948478138971035,1.6150927483768984,0.8223882551017115,0.062398150146115994,1.9245262147201765,0.1432155118430101,0.6515104405097738,0.9617919661475984,0.42449612554956784,0.5540538237992824,0.10484325809170432,0.35182937921254887,0.17735652491101306,2.012404378970454,0.19792610958192156,2.6359627023146612,0.9936871638738,0.6462404886407891,0.7972218695591036,0.9627030484990358,0.3975798452274547,1.3467634731177167,0.7871659886023563,0.5596412009724298,0.5924265779653518,0.9540016346364198,2.1998459479069266,2.089169167040814,0.11202854830397699,0.2731459152956678,1.4777463234073949,0.042193515675643875,0.42961977397203693,0.4950372719140848,0.9764091397684551,1.66261770664856,2.022217063555949,0.7956016936078187,0.1307879496241811,0.35574970416843044,0.3737405236647547,1.2530467640268907,2.7952170201693316,2.828177998188632,1.0193271697256103,0.2810634208208543,0.31065041612535577,0.37060998731837286,0.1883822033719663,0.7970908893762456,1.4885930486183356,1.5325216960091375,1.7781054487688903,0.3593805605049516,0.33360703177734613,0.7219867243526542,0.4821825031868651,0.4400653803199033,1.8147730554549306,0.39011230973524214,1.0164060060413138,1.7578921360851636,0.11374670452878655,0.3555607007311262,1.0464357350496305,0.11083790005941897,0.06183040710347094,0.18214491712959868,2.152371072401093,0.8819515597875802,0.40183904310824115,1.355934055451179,1.0933719724371018,0.6376989727938559,0.03768698214084288,0.3289474562733753,0.03187704169734717,1.1352626731656605,1.3586984884821445,0.8457209464379678,2.0794806749060197,0.0620862115495664,0.02515771866536751,0.5210431862340481,0.10175992789623908,0.129187886970526,2.10776843053134,0.3857957782178166,1.3859402543640573,0.12457726809945462,0.40423838654314237,0.7346190250569262,0.058457868207518304,0.05282421183559043,1.9039035689130301,0.9714840069783733,0.7214770865227937,0.41222513035912617,0.509449469157992,0.5080906730024465,0.5452862718839864,0.19737921085153776,0.835626722039603,0.15385644685538818,0.42321958395672643,0.6091541895293575,0.19479127065244284,0.9860462642380895,0.2055236963447241,1.7779564575531315,0.1421040850078467,1.7707346347621127,1.5593807230503258,0.10333701590387905,1.2274124139436335,0.3733189653311324,0.7291868141613957,0.09325904987745597,0.7444705822607491,1.027301989324263,1.2798235254813595,0.6966929350897351,1.0838489320631608,0.06881623742000403,0.4431549245607874,1.7190070186462336,0.7873960210435916,1.513726458994392,0.5033066284750044,1.1117640453670197,0.5465737359570076,0.6727319834651168,2.572393239679327,0.4617270142766962,0.14114899745862686,1.9859599385099722,0.02351015438912109,1.2016383381312796,0.13639453435878124,0.7516330777174104,0.5763965417719976,0.9238849101024805,0.8287303896367978,0.09449580691891991,1.0861541210902708,0.5175733716134558,0.566772710349458,0.4643410318138472,1.072892287635153,1.5695894908289694,0.21469939878768035,0.49087813727072216,0.8274343386428266,1.4395203567940953,0.9612164529477276,0.47546356210955854,1.2247078397043412,1.131447190553097,1.7496891693098193,1.1268142329549704,0.7693612473176018,0.8029293814431647,0.5754330845484277],\"mode\":\"markers\",\"marker\":{\"size\":6,\"color\":\"blue\",\"line\":{\"color\":\"white\",\"width\":0.5}}}];\n",
       "           var layout = {\"title\":\"Бокс-Мюллер\",\"xaxis\":{\"title\":\"x\",\"_isSubplotObj\":true},\"yaxis\":{\"title\":\"y\",\"_isSubplotObj\":true}};\n",
       "           Plotly.newPlot('22641ee5-212a-4e80-a847-d535d54abf71', data, layout);\n",
       "        \n",
       "});\n",
       "};\n",
       "// ensure `require` is available globally\r\n",
       "if ((typeof(require) !==  typeof(Function)) || (typeof(require.config) !== typeof(Function))) {\r\n",
       "    let require_script = document.createElement('script');\r\n",
       "    require_script.setAttribute('src', 'https://cdnjs.cloudflare.com/ajax/libs/require.js/2.3.6/require.min.js');\r\n",
       "    require_script.setAttribute('type', 'text/javascript');\r\n",
       "    \r\n",
       "    \r\n",
       "    require_script.onload = function() {\r\n",
       "        renderPlotly();\r\n",
       "    };\r\n",
       "\r\n",
       "    document.getElementsByTagName('head')[0].appendChild(require_script);\r\n",
       "}\r\n",
       "else {\r\n",
       "    renderPlotly();\r\n",
       "}\r\n",
       "\n",
       "</script>\n"
      ]
     },
     "metadata": {},
     "output_type": "display_data"
    }
   ],
   "source": [
    "var scatterNew = new Scatter\n",
    "{   \n",
    "    x = dNums.Select(x => x.Item1),\n",
    "    y = dNums.Select(x => x.Item2),\n",
    "    mode = \"markers\",\n",
    "    marker = new Marker \n",
    "    { \n",
    "        color = \"blue\",\n",
    "        size = 6,\n",
    "        line = new Line {\n",
    "            color = \"white\",\n",
    "            width = 0.5\n",
    "        }\n",
    "    }\n",
    "};\n",
    "\n",
    "var scatterOld = new Scatter\n",
    "{   \n",
    "    x = dNums.Select(x => x.Item3),\n",
    "    y = dNums.Select(x => x.Item4),\n",
    "    mode = \"markers\",\n",
    "    marker = new Marker \n",
    "    { \n",
    "        color = \"green\",\n",
    "        size = 6,\n",
    "        line = new Line {\n",
    "            color = \"white\",\n",
    "            width = 0.5\n",
    "        }\n",
    "    }\n",
    "};\n",
    "\n",
    "var layout = new Layout.Layout \n",
    "{\n",
    "    xaxis = new Xaxis \n",
    "    {\n",
    "        title = \"x\",\n",
    "    },\n",
    "    yaxis = new Yaxis\n",
    "    {\n",
    "        title = \"y\"\n",
    "    },\n",
    "    title = $\"Бокс-Мюллер\",\n",
    "    \n",
    "};\n",
    "\n",
    "var plot = Chart.Plot(new List<Trace>() { scatterOld, scatterNew }, layout);\n",
    "plot.Height = 700;\n",
    "plot.Width = 700;\n",
    "plot"
   ]
  }
 ],
 "metadata": {
  "kernelspec": {
   "display_name": ".NET (C#)",
   "language": "C#",
   "name": ".net-csharp"
  },
  "language_info": {
   "file_extension": ".cs",
   "mimetype": "text/x-csharp",
   "name": "C#",
   "pygments_lexer": "csharp",
   "version": "9.0"
  },
  "orig_nbformat": 4
 },
 "nbformat": 4,
 "nbformat_minor": 2
}
